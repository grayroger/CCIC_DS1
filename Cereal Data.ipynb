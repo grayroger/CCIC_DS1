{
 "cells": [
  {
   "cell_type": "code",
   "execution_count": 2,
   "id": "657e22ea",
   "metadata": {},
   "outputs": [],
   "source": [
    "import pandas as pd\n",
    "\n",
    "df = pd.read_csv(r'C:\\Users\\grogers3\\Downloads\\archive\\cereal.csv')\n",
    "if (df.isnull().values.any() == True):\n",
    "    df.plot.bar(x = 'name', y = 'rating', figsize=(20,10))\n",
    "\n",
    "df2 = df.groupby('name')[[\"sugars\", \"rating\"]]"
   ]
  },
  {
   "cell_type": "code",
   "execution_count": 3,
   "id": "e71f0ca6",
   "metadata": {},
   "outputs": [],
   "source": [
    "df.drop(['potass','cups','mfr','calories','protein','fat','sodium','fiber','carbo', 'type','vitamins','shelf','weight',],axis = 1, inplace = True)"
   ]
  },
  {
   "cell_type": "code",
   "execution_count": 4,
   "id": "868d6ad5",
   "metadata": {},
   "outputs": [],
   "source": [
    "df.drop(['name'], axis = 1, inplace = True)"
   ]
  },
  {
   "cell_type": "code",
   "execution_count": 5,
   "id": "a687135c",
   "metadata": {},
   "outputs": [
    {
     "name": "stdout",
     "output_type": "stream",
     "text": [
      "15\n",
      "-1\n",
      "93.704912\n",
      "18.042851\n"
     ]
    }
   ],
   "source": [
    "print(df['sugars'].max())\n",
    "print(df['sugars'].min())\n",
    "print(df['rating'].max())\n",
    "print(df['rating'].min())"
   ]
  },
  {
   "cell_type": "code",
   "execution_count": 6,
   "id": "2acc00d8",
   "metadata": {},
   "outputs": [],
   "source": [
    "df.drop(df.loc[df['sugars']==-1].index, inplace = True)"
   ]
  },
  {
   "cell_type": "code",
   "execution_count": 36,
   "id": "da715eb2",
   "metadata": {},
   "outputs": [
    {
     "data": {
      "text/plain": [
       "<AxesSubplot:xlabel='sugars', ylabel='rating'>"
      ]
     },
     "execution_count": 36,
     "metadata": {},
     "output_type": "execute_result"
    },
    {
     "data": {
      "image/png": "[encoded data removed]",
      "text/plain": [
       "<Figure size 432x288 with 1 Axes>"
      ]
     },
     "metadata": {
      "needs_background": "light"
     },
     "output_type": "display_data"
    }
   ],
   "source": [
    "import seaborn as sns\n",
    "sns.regplot(data = df,  x=\"sugars\", y = \"rating\")"
   ]
  },
  {
   "cell_type": "code",
   "execution_count": 38,
   "id": "54a72918",
   "metadata": {},
   "outputs": [
    {
     "data": {
      "text/html": [
       "<div>\n",
       "<style scoped>\n",
       "    .dataframe tbody tr th:only-of-type {\n",
       "        vertical-align: middle;\n",
       "    }\n",
       "\n",
       "    .dataframe tbody tr th {\n",
       "        vertical-align: top;\n",
       "    }\n",
       "\n",
       "    .dataframe thead th {\n",
       "        text-align: right;\n",
       "    }\n",
       "</style>\n",
       "<table border=\"1\" class=\"dataframe\">\n",
       "  <thead>\n",
       "    <tr style=\"text-align: right;\">\n",
       "      <th></th>\n",
       "      <th>sugars</th>\n",
       "      <th>rating</th>\n",
       "    </tr>\n",
       "  </thead>\n",
       "  <tbody>\n",
       "    <tr>\n",
       "      <th>sugars</th>\n",
       "      <td>1.000000</td>\n",
       "      <td>-0.763902</td>\n",
       "    </tr>\n",
       "    <tr>\n",
       "      <th>rating</th>\n",
       "      <td>-0.763902</td>\n",
       "      <td>1.000000</td>\n",
       "    </tr>\n",
       "  </tbody>\n",
       "</table>\n",
       "</div>"
      ],
      "text/plain": [
       "          sugars    rating\n",
       "sugars  1.000000 -0.763902\n",
       "rating -0.763902  1.000000"
      ]
     },
     "execution_count": 38,
     "metadata": {},
     "output_type": "execute_result"
    }
   ],
   "source": [
    "df.corr()"
   ]
  }
 ],
 "metadata": {
  "kernelspec": {
   "display_name": "Python 3 (ipykernel)",
   "language": "python",
   "name": "python3"
  },
  "language_info": {
   "codemirror_mode": {
    "name": "ipython",
    "version": 3
   },
   "file_extension": ".py",
   "mimetype": "text/x-python",
   "name": "python",
   "nbconvert_exporter": "python",
   "pygments_lexer": "ipython3",
   "version": "3.9.12"
  }
 },
 "nbformat": 4,
 "nbformat_minor": 5
}
