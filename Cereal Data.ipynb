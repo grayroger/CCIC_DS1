{
 "cells": [
  {
   "cell_type": "code",
   "execution_count": 91,
   "id": "657e22ea",
   "metadata": {},
   "outputs": [],
   "source": [
    "import pandas as pd\n",
    "\n",
    "df = pd.read_csv(r'C:\\Users\\grogers3\\Downloads\\archive\\cereal.csv')\n",
    "if (df.isnull().values.any() == True):\n",
    "    df.plot.bar(x = 'name', y = 'rating', figsize=(20,10))\n",
    "\n",
    "df2 = df.groupby('name')[[\"sugars\", \"rating\"]]"
   ]
  },
  {
   "cell_type": "code",
   "execution_count": 92,
   "id": "e71f0ca6",
   "metadata": {},
   "outputs": [],
   "source": [
    "df.drop(['potass','cups','mfr','calories','protein','fat','sodium','fiber','carbo', 'type','vitamins','shelf','weight',],axis = 1, inplace = True)"
   ]
  },
  {
   "cell_type": "code",
   "execution_count": 93,
   "id": "868d6ad5",
   "metadata": {},
   "outputs": [],
   "source": [
    "df.drop(['name'], axis = 1, inplace = True)"
   ]
  },
  {
   "cell_type": "code",
   "execution_count": 110,
   "id": "a687135c",
   "metadata": {},
   "outputs": [
    {
     "name": "stdout",
     "output_type": "stream",
     "text": [
      "15\n",
      "-1\n",
      "93.704912\n",
      "18.042851\n"
     ]
    }
   ],
   "source": [
    "print(df['sugars'].max())\n",
    "print(df['sugars'].min())\n",
    "print(df['rating'].max())\n",
    "print(df['rating'].min())"
   ]
  },
  {
   "cell_type": "code",
   "execution_count": 120,
   "id": "2acc00d8",
   "metadata": {},
   "outputs": [],
   "source": [
    "df.drop(df.loc[df['sugars']==-1].index, inplace = True)"
   ]
  },
  {
   "cell_type": "code",
   "execution_count": null,
   "id": "fb33ba34",
   "metadata": {},
   "outputs": [],
   "source": []
  }
 ],
 "metadata": {
  "kernelspec": {
   "display_name": "Python 3 (ipykernel)",
   "language": "python",
   "name": "python3"
  },
  "language_info": {
   "codemirror_mode": {
    "name": "ipython",
    "version": 3
   },
   "file_extension": ".py",
   "mimetype": "text/x-python",
   "name": "python",
   "nbconvert_exporter": "python",
   "pygments_lexer": "ipython3",
   "version": "3.9.12"
  }
 },
 "nbformat": 4,
 "nbformat_minor": 5
}
