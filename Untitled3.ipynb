{
 "cells": [
  {
   "cell_type": "code",
   "execution_count": 3,
   "id": "0ef15bc2",
   "metadata": {},
   "outputs": [
    {
     "name": "stdout",
     "output_type": "stream",
     "text": [
      "<Response [200]>\n"
     ]
    },
    {
     "data": {
      "text/plain": [
       "0"
      ]
     },
     "execution_count": 3,
     "metadata": {},
     "output_type": "execute_result"
    }
   ],
   "source": [
    "import requests\n",
    "#https://api.nal.usda.gov/fdc/v1/foods/search?query=apple&pageSize=2&api_key=BWQQgeyowbEa7XLG0iM2EoR3X7sDqg9xZhrRbvOq\n",
    "params = {'api_key': 'BWQQgeyowbEa7XLG0iM2EoR3X7sDqg9xZhrRbvOq'}\n",
    "data = {'generalSearchInput': ''}\n",
    "response = requests.post(\n",
    "    r'https://api.nal.usda.gov/fdc/v1/foods/search?query=apple&pageSize=2',\n",
    "    params=params,\n",
    "    json=data\n",
    ") \n",
    "\n",
    "#SPINDT DEMO\n",
    "\n",
    "url= 'https://api.nal.usda.gov/fdc/v1/foods/list?api_key=eitgQhVupFRpUpjeYXNBR2VEMBtiLfsva5B10KDy'\n",
    "response = requests.get(url)\n",
    "print(response)\n",
    "json = response.json()\n",
    "def requestAllFood():\n",
    "    pageNum = 1\n",
    "    foods = []\n",
    "    while True:\n",
    "        url = 'https://api.nal.usda.gov/fdc/v1/foods/list?api_key=eitgQhVupFRpUpjeYXNBR2VEMBtiLfsva5B10KDy' + str(pageNum)\n",
    "        req = requests.get(url)\n",
    "        if not req.ok:\n",
    "            break\n",
    "        foods = foods + req.json()\n",
    "        pageNum = pageNum + 1\n",
    "\n",
    "    return foods\n",
    "listOfFoods = requestAllFood() #dont inclue - runs get (bruh)\n",
    "len(listOfFoods)"
   ]
  },
  {
   "cell_type": "code",
   "execution_count": null,
   "id": "1922ebca",
   "metadata": {},
   "outputs": [],
   "source": []
  }
 ],
 "metadata": {
  "kernelspec": {
   "display_name": "Python 3 (ipykernel)",
   "language": "python",
   "name": "python3"
  },
  "language_info": {
   "codemirror_mode": {
    "name": "ipython",
    "version": 3
   },
   "file_extension": ".py",
   "mimetype": "text/x-python",
   "name": "python",
   "nbconvert_exporter": "python",
   "pygments_lexer": "ipython3",
   "version": "3.9.12"
  }
 },
 "nbformat": 4,
 "nbformat_minor": 5
}
