{
  "cells": [
    {
      "cell_type": "code",
      "execution_count": 20,
      "metadata": {
        "id": "Q8_-PplThTtF"
      },
      "outputs": [],
      "source": [
        "import pandas as pd\n",
        "import math\n",
        "import time\n",
        "import seaborn as sns"
      ]
    },
    {
      "cell_type": "code",
      "execution_count": 21,
      "metadata": {
        "id": "zB0dXMbshy3V"
      },
      "outputs": [],
      "source": [
        "df = pd.read_csv(\"CleanedTitanic.csv\")\n",
        "#df.drop(['Unnamed: 0'], inplace=True, axis=1)"
      ]
    },
    {
      "cell_type": "code",
      "execution_count": 22,
      "metadata": {
        "id": "rno1l9Dch_Iw"
      },
      "outputs": [],
      "source": [
        "# Test/Train Split\n",
        "length = len(df.index)\n",
        "splitPoint = int(length * 0.7)\n",
        "train = df[0:splitPoint]\n",
        "test = df[splitPoint:length]"
      ]
    },
    {
      "cell_type": "markdown",
      "metadata": {
        "id": "5uec-cTM_5GY"
      },
      "source": [
        "# K-NN Algorithm"
      ]
    },
    {
      "cell_type": "code",
      "execution_count": 39,
      "metadata": {
        "id": "85Yn6DjkiTpz"
      },
      "outputs": [],
      "source": [
        "# K-NN Training Algorithm\n",
        "def trainKNN(df, iterations):\n",
        "  '''\n",
        "  Pseudocode Algorithm\n",
        "  1. Set K to 3 because this is the first odd value greater than the number of categories in the Titanic dataset.\n",
        "  2. Create an empty list to collect accuracy values during training.\n",
        "  2. Segment the training dataset into three equal parts: \n",
        "    - Segment 1: Class 1 labels\n",
        "    - Segment 2: Class 2 labels\n",
        "    - Segment 3: Remaining data of \"unknown\" labels \n",
        "  3. Calculate the euclidean distance between each data point in segment 3 with all data in segment 1 and segment 2. \n",
        "  4. Take the top K smallest distances to determine the label of the \"unknown\" data point.\n",
        "  5. Append 0 to accuracy list if the label does not match the actual label. Append 1 to accuracy list if the label does match the actual label.\n",
        "  6. Calculate the overall accuracy percent of the K value and append it to a dictionary of k, accuracy values.\n",
        "  7. Add 2 to K and repeat steps 3 - 6 for a desired number of iterations.\n",
        "  '''\n",
        "  # Set initial value of k\n",
        "  k = 3\n",
        "\n",
        "  # Segment training data into 3 segments.\n",
        "  class1, class2, unknowns = getSegments(df)\n",
        "  \n",
        "  # Calculate accuracy of K values for desired iterations\n",
        "  count = 0\n",
        "  accuracies = {}\n",
        "  t0 = time.time() # for measuring how long it takes to compute\n",
        "  t0_k = k\n",
        "  while count < iterations:\n",
        "    if count % 10 == 0:\n",
        "      elapsed = time.time() - t0\n",
        "      t0 = time.time()\n",
        "      print(f\"Took {elapsed:.2f} seconds to compute {t0_k}<=k<{k}\")\n",
        "      t0_k = k\n",
        "    # Calculate percent accuracy for current k\n",
        "    accuracy_at_k = calculateAccuracy(class1, class2, unknowns, k)\n",
        "    accuracies[k] = accuracy_at_k\n",
        "    k = k + 2\n",
        "    count = count + 1\n",
        "  \n",
        "  return accuracies\n",
        "\n",
        "def getSegments(df):\n",
        "  # Segment training data into 3 segments. If not divisible by 3, add extra data to unknown segment.\n",
        "  length = len(df.index)\n",
        "  splitPoint = int(length/3)\n",
        "  survived = df[df.Survived == 1]\n",
        "  died = df[df.Survived == 0]\n",
        "  survived_df = survived.iloc[:splitPoint]\n",
        "  died_df = died.iloc[:splitPoint]\n",
        "  leftover = pd.concat([survived.iloc[splitPoint:], died.iloc[splitPoint:]])\n",
        "  survived.reset_index(inplace=True, drop=True)\n",
        "  died.reset_index(inplace=True, drop=True)\n",
        "  leftover.reset_index(inplace=True, drop=True)\n",
        "  return survived_df, died_df, leftover\n",
        "\n",
        "\n",
        "def euclidianDistance(row1, row2):\n",
        "  sum = 0\n",
        "  for (i, j) in zip(row1[1:10], row2[1:10]):\n",
        "    diffSQ = (i - j) **2\n",
        "    sum = sum + diffSQ\n",
        "  return math.sqrt(sum)\n",
        "\n",
        "cache = {}\n",
        "def calculateAccuracy(class1, class2, unknowns, k):\n",
        "  known = pd.concat([class1, class2], axis=0)\n",
        "  unknown_prediction_correct = []\n",
        "  for idx in unknowns.index:\n",
        "    if not idx in cache:\n",
        "      cache[idx] = known.apply(lambda x: euclidianDistance(x, unknowns.iloc[idx]), axis=1)\n",
        "    known['distance_to_unknown'] = cache[idx]\n",
        "    top_k = known.sort_values('distance_to_unknown',ascending=True).head(k)\n",
        "    predicted_class = top_k.value_counts(ascending=False, subset='Survived').index[0] # TODO: double check this line\n",
        "    if predicted_class == unknowns.iloc[idx].Survived:\n",
        "      unknown_prediction_correct.append(1)\n",
        "    else:\n",
        "      unknown_prediction_correct.append(0)\n",
        "    known.pop('distance_to_unknown') # remove this so we don't use it in future distance calculations\n",
        "  return sum(unknown_prediction_correct) / len(unknown_prediction_correct)"
      ]
    },
    {
      "cell_type": "code",
      "execution_count": 40,
      "metadata": {
        "colab": {
          "base_uri": "https://localhost:8080/"
        },
        "id": "O0RHWEuUneMw",
        "outputId": "8a363974-ed32-4255-8fd3-5f697b60d61c"
      },
      "outputs": [
        {
          "name": "stdout",
          "output_type": "stream",
          "text": [
            "Took 0.00 seconds to compute 3<=k<3\n"
          ]
        },
        {
          "ename": "ZeroDivisionError",
          "evalue": "division by zero",
          "output_type": "error",
          "traceback": [
            "\u001b[1;31m---------------------------------------------------------------------------\u001b[0m",
            "\u001b[1;31mZeroDivisionError\u001b[0m                         Traceback (most recent call last)",
            "\u001b[1;32mc:\\Users\\grogers3\\Documents\\GitHub\\CCIC_DS1\\ExampleKNN.ipynb Cell 6\u001b[0m in \u001b[0;36m<cell line: 1>\u001b[1;34m()\u001b[0m\n\u001b[1;32m----> <a href='vscode-notebook-cell:/c%3A/Users/grogers3/Documents/GitHub/CCIC_DS1/ExampleKNN.ipynb#X13sZmlsZQ%3D%3D?line=0'>1</a>\u001b[0m performance \u001b[39m=\u001b[39m trainKNN(train, \u001b[39m100\u001b[39;49m)\n",
            "\u001b[1;32mc:\\Users\\grogers3\\Documents\\GitHub\\CCIC_DS1\\ExampleKNN.ipynb Cell 6\u001b[0m in \u001b[0;36mtrainKNN\u001b[1;34m(df, iterations)\u001b[0m\n\u001b[0;32m     <a href='vscode-notebook-cell:/c%3A/Users/grogers3/Documents/GitHub/CCIC_DS1/ExampleKNN.ipynb#X13sZmlsZQ%3D%3D?line=32'>33</a>\u001b[0m   t0_k \u001b[39m=\u001b[39m k\n\u001b[0;32m     <a href='vscode-notebook-cell:/c%3A/Users/grogers3/Documents/GitHub/CCIC_DS1/ExampleKNN.ipynb#X13sZmlsZQ%3D%3D?line=33'>34</a>\u001b[0m \u001b[39m# Calculate percent accuracy for current k\u001b[39;00m\n\u001b[1;32m---> <a href='vscode-notebook-cell:/c%3A/Users/grogers3/Documents/GitHub/CCIC_DS1/ExampleKNN.ipynb#X13sZmlsZQ%3D%3D?line=34'>35</a>\u001b[0m accuracy_at_k \u001b[39m=\u001b[39m calculateAccuracy(class1, class2, unknowns, k)\n\u001b[0;32m     <a href='vscode-notebook-cell:/c%3A/Users/grogers3/Documents/GitHub/CCIC_DS1/ExampleKNN.ipynb#X13sZmlsZQ%3D%3D?line=35'>36</a>\u001b[0m accuracies[k] \u001b[39m=\u001b[39m accuracy_at_k\n\u001b[0;32m     <a href='vscode-notebook-cell:/c%3A/Users/grogers3/Documents/GitHub/CCIC_DS1/ExampleKNN.ipynb#X13sZmlsZQ%3D%3D?line=36'>37</a>\u001b[0m k \u001b[39m=\u001b[39m k \u001b[39m+\u001b[39m \u001b[39m2\u001b[39m\n",
            "\u001b[1;32mc:\\Users\\grogers3\\Documents\\GitHub\\CCIC_DS1\\ExampleKNN.ipynb Cell 6\u001b[0m in \u001b[0;36mcalculateAccuracy\u001b[1;34m(class1, class2, unknowns, k)\u001b[0m\n\u001b[0;32m     <a href='vscode-notebook-cell:/c%3A/Users/grogers3/Documents/GitHub/CCIC_DS1/ExampleKNN.ipynb#X13sZmlsZQ%3D%3D?line=76'>77</a>\u001b[0m     unknown_prediction_correct\u001b[39m.\u001b[39mappend(\u001b[39m0\u001b[39m)\n\u001b[0;32m     <a href='vscode-notebook-cell:/c%3A/Users/grogers3/Documents/GitHub/CCIC_DS1/ExampleKNN.ipynb#X13sZmlsZQ%3D%3D?line=77'>78</a>\u001b[0m   known\u001b[39m.\u001b[39mpop(\u001b[39m'\u001b[39m\u001b[39mdistance_to_unknown\u001b[39m\u001b[39m'\u001b[39m) \u001b[39m# remove this so we don't use it in future distance calculations\u001b[39;00m\n\u001b[1;32m---> <a href='vscode-notebook-cell:/c%3A/Users/grogers3/Documents/GitHub/CCIC_DS1/ExampleKNN.ipynb#X13sZmlsZQ%3D%3D?line=78'>79</a>\u001b[0m \u001b[39mreturn\u001b[39;00m \u001b[39msum\u001b[39;49m(unknown_prediction_correct) \u001b[39m/\u001b[39;49m \u001b[39mlen\u001b[39;49m(unknown_prediction_correct)\n",
            "\u001b[1;31mZeroDivisionError\u001b[0m: division by zero"
          ]
        }
      ],
      "source": [
        "performance = trainKNN(train, 100)"
      ]
    },
    {
      "cell_type": "code",
      "execution_count": 25,
      "metadata": {
        "colab": {
          "base_uri": "https://localhost:8080/"
        },
        "id": "Y_Z2-pyEADIC",
        "outputId": "a97750ed-1ab3-4740-8b64-deea1605e958"
      },
      "outputs": [
        {
          "name": "stdout",
          "output_type": "stream",
          "text": [
            "{3: 1.0, 5: 1.0, 7: 1.0, 9: 1.0, 11: 1.0, 13: 1.0, 15: 1.0, 17: 1.0, 19: 1.0, 21: 1.0, 23: 1.0, 25: 1.0, 27: 1.0, 29: 1.0, 31: 1.0, 33: 1.0, 35: 1.0, 37: 1.0, 39: 1.0, 41: 1.0, 43: 1.0, 45: 1.0, 47: 1.0, 49: 1.0, 51: 1.0, 53: 1.0, 55: 1.0, 57: 1.0, 59: 1.0, 61: 1.0, 63: 1.0, 65: 1.0, 67: 1.0, 69: 1.0, 71: 1.0, 73: 1.0, 75: 1.0, 77: 1.0, 79: 1.0, 81: 1.0, 83: 1.0, 85: 1.0, 87: 1.0, 89: 1.0, 91: 1.0, 93: 1.0, 95: 1.0, 97: 1.0, 99: 1.0, 101: 1.0, 103: 1.0, 105: 1.0, 107: 1.0, 109: 1.0, 111: 1.0, 113: 1.0, 115: 1.0, 117: 1.0, 119: 1.0, 121: 1.0, 123: 1.0, 125: 1.0, 127: 1.0, 129: 1.0, 131: 1.0, 133: 1.0, 135: 1.0, 137: 1.0, 139: 1.0, 141: 1.0, 143: 1.0, 145: 1.0, 147: 1.0, 149: 1.0, 151: 1.0, 153: 1.0, 155: 1.0, 157: 1.0, 159: 1.0, 161: 1.0, 163: 1.0, 165: 1.0, 167: 1.0, 169: 1.0, 171: 1.0, 173: 1.0, 175: 1.0, 177: 1.0, 179: 1.0, 181: 1.0, 183: 1.0, 185: 1.0, 187: 1.0, 189: 1.0, 191: 1.0, 193: 1.0, 195: 1.0, 197: 1.0, 199: 1.0, 201: 1.0}\n"
          ]
        }
      ],
      "source": [
        "print(performance)"
      ]
    },
    {
      "cell_type": "markdown",
      "metadata": {
        "id": "XJgRQUiID63I"
      },
      "source": [
        "# Visualizing K Accuracy"
      ]
    },
    {
      "cell_type": "code",
      "execution_count": 26,
      "metadata": {
        "colab": {
          "base_uri": "https://localhost:8080/",
          "height": 206
        },
        "id": "u_FF_ciOBLYj",
        "outputId": "94bb64ea-e4be-4740-a560-8ede04ab9bdb"
      },
      "outputs": [
        {
          "data": {
            "text/html": [
              "<div>\n",
              "<style scoped>\n",
              "    .dataframe tbody tr th:only-of-type {\n",
              "        vertical-align: middle;\n",
              "    }\n",
              "\n",
              "    .dataframe tbody tr th {\n",
              "        vertical-align: top;\n",
              "    }\n",
              "\n",
              "    .dataframe thead th {\n",
              "        text-align: right;\n",
              "    }\n",
              "</style>\n",
              "<table border=\"1\" class=\"dataframe\">\n",
              "  <thead>\n",
              "    <tr style=\"text-align: right;\">\n",
              "      <th></th>\n",
              "      <th>k</th>\n",
              "      <th>accuracy</th>\n",
              "    </tr>\n",
              "  </thead>\n",
              "  <tbody>\n",
              "    <tr>\n",
              "      <th>0</th>\n",
              "      <td>3</td>\n",
              "      <td>1.0</td>\n",
              "    </tr>\n",
              "    <tr>\n",
              "      <th>1</th>\n",
              "      <td>5</td>\n",
              "      <td>1.0</td>\n",
              "    </tr>\n",
              "    <tr>\n",
              "      <th>2</th>\n",
              "      <td>7</td>\n",
              "      <td>1.0</td>\n",
              "    </tr>\n",
              "    <tr>\n",
              "      <th>3</th>\n",
              "      <td>9</td>\n",
              "      <td>1.0</td>\n",
              "    </tr>\n",
              "    <tr>\n",
              "      <th>4</th>\n",
              "      <td>11</td>\n",
              "      <td>1.0</td>\n",
              "    </tr>\n",
              "  </tbody>\n",
              "</table>\n",
              "</div>"
            ],
            "text/plain": [
              "    k  accuracy\n",
              "0   3       1.0\n",
              "1   5       1.0\n",
              "2   7       1.0\n",
              "3   9       1.0\n",
              "4  11       1.0"
            ]
          },
          "execution_count": 26,
          "metadata": {},
          "output_type": "execute_result"
        }
      ],
      "source": [
        "kacc = pd.DataFrame({\n",
        "    \"k\": list(sorted(performance.keys())),\n",
        "    \"accuracy\": [performance[k] for k in sorted(performance.keys())]\n",
        "})\n",
        "kacc.head()"
      ]
    },
    {
      "cell_type": "code",
      "execution_count": 27,
      "metadata": {
        "colab": {
          "base_uri": "https://localhost:8080/",
          "height": 297
        },
        "id": "VRWQIMGzqN0P",
        "outputId": "3b1e484a-0f1d-4952-808a-461bee82d702"
      },
      "outputs": [
        {
          "data": {
            "text/plain": [
              "<AxesSubplot:xlabel='k', ylabel='accuracy'>"
            ]
          },
          "execution_count": 27,
          "metadata": {},
          "output_type": "execute_result"
        },
        {
          "data": {
            "image/png": "[encoded data removed]",
            "text/plain": [
              "<Figure size 432x288 with 1 Axes>"
            ]
          },
          "metadata": {
            "needs_background": "light"
          },
          "output_type": "display_data"
        }
      ],
      "source": [
        "sns.lineplot(x=kacc.k, y=kacc.accuracy)"
      ]
    },
    {
      "cell_type": "code",
      "execution_count": 41,
      "metadata": {},
      "outputs": [],
      "source": [
        "k = 109\n",
        "unknown = test.iloc[:,1:10]\n",
        "knonw = test.iloc[:,0:1]\n",
        "votes =[] \n",
        "\n",
        "def vote(known, topPoint,points,i):\n",
        "    survived = 0\n",
        "    died=0\n",
        "    for j in range (len(topPoint)):\n",
        "        index = points.index(topPoint[i])\n",
        "        guess = known['Survived'][index]\n",
        "        if guess ==0:\n",
        "            died+=1\n",
        "        else:\n",
        "            survived+=1\n",
        "    if survived>died:\n",
        "        votes.append(0)\n",
        "    else:\n",
        "        votes.append(1)\n"
      ]
    },
    {
      "cell_type": "code",
      "execution_count": null,
      "metadata": {},
      "outputs": [],
      "source": []
    }
  ],
  "metadata": {
    "colab": {
      "provenance": []
    },
    "kernelspec": {
      "display_name": "Python 3",
      "name": "python3"
    },
    "language_info": {
      "codemirror_mode": {
        "name": "ipython",
        "version": 3
      },
      "file_extension": ".py",
      "mimetype": "text/x-python",
      "name": "python",
      "nbconvert_exporter": "python",
      "pygments_lexer": "ipython3",
      "version": "3.9.12"
    }
  },
  "nbformat": 4,
  "nbformat_minor": 0
}
