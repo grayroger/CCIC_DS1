{
 "cells": [
  {
   "cell_type": "code",
   "execution_count": 16,
   "id": "88679238",
   "metadata": {},
   "outputs": [],
   "source": [
    "import time"
   ]
  },
  {
   "cell_type": "code",
   "execution_count": 17,
   "id": "184813cf",
   "metadata": {},
   "outputs": [],
   "source": [
    "x = time.time()"
   ]
  },
  {
   "cell_type": "code",
   "execution_count": 18,
   "id": "94b14106",
   "metadata": {},
   "outputs": [],
   "source": [
    "y = time.time()"
   ]
  },
  {
   "cell_type": "code",
   "execution_count": 19,
   "id": "8dc645ee",
   "metadata": {},
   "outputs": [
    {
     "name": "stdout",
     "output_type": "stream",
     "text": [
      "6.5501768589019775\n"
     ]
    }
   ],
   "source": [
    "print(y-x)"
   ]
  },
  {
   "cell_type": "code",
   "execution_count": null,
   "id": "8774874e",
   "metadata": {},
   "outputs": [],
   "source": []
  }
 ],
 "metadata": {
  "kernelspec": {
   "display_name": "Python 3 (ipykernel)",
   "language": "python",
   "name": "python3"
  },
  "language_info": {
   "codemirror_mode": {
    "name": "ipython",
    "version": 3
   },
   "file_extension": ".py",
   "mimetype": "text/x-python",
   "name": "python",
   "nbconvert_exporter": "python",
   "pygments_lexer": "ipython3",
   "version": "3.9.12"
  }
 },
 "nbformat": 4,
 "nbformat_minor": 5
}
