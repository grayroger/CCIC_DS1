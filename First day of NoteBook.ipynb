{
 "cells": [
  {
   "cell_type": "code",
   "execution_count": 17,
   "id": "8de840d2",
   "metadata": {},
   "outputs": [
    {
     "name": "stdout",
     "output_type": "stream",
     "text": [
      "Hello, world! My name is Graydon!\n"
     ]
    }
   ],
   "source": [
    "name = \"Graydon\"\n",
    "print(\"Hello, world! My name is \" + name + \"!\")\n"
   ]
  },
  {
   "cell_type": "code",
   "execution_count": 27,
   "id": "7c81fac0",
   "metadata": {},
   "outputs": [
    {
     "name": "stdout",
     "output_type": "stream",
     "text": [
      "heads or tailstails\n",
      "heads wins\n"
     ]
    }
   ],
   "source": [
    "import random\n",
    "\n",
    "num = random.randint(1,2)\n",
    "guess = input(\"heads or tails\")\n",
    "if num == 1 :\n",
    "    print(\"heads wins\")\n",
    "else:\n",
    "    print(\"tails wins\")\n"
   ]
  },
  {
   "cell_type": "code",
   "execution_count": null,
   "id": "a0014380",
   "metadata": {},
   "outputs": [],
   "source": [
    "import random\n",
    "while True:\n",
    "    num = random.randint(1,25)\n",
    "    temp = \"\"\n",
    "    strfaw = \"shashumga\"\n",
    "    while num < 25:\n",
    "        num += 1\n",
    "        temp += strfaw\n",
    "        print(temp)\n",
    "        \n",
    "        "
   ]
  },
  {
   "cell_type": "code",
   "execution_count": null,
   "id": "3baf9c76",
   "metadata": {},
   "outputs": [],
   "source": [
    "print(\"                                                                    ||\")\n",
    "print(\"                                                  __..--\"\".\"\"          ||\" )\n",
    "print(\"                                 __..--\"\"`._..--\"\" . . . .`.        ||\")\n",
    "print(\"                         __..--\"\". . . . . . .`. . . . . . .`.      ||\")\n",
    "print(\"                 __..--\"\". . . . .`. . . . . . .`. . . . . . .`.   //\")\n",
    "print(\"         __..--\"\". . `.  . . . . . .`. . . . . . .`. . . . . . .`.//\")\n",
    "print(\"  _..--\"\"  . . . . . . `.  . . . . . .`. . . . . . .`. . . . . . .||\")\n",
    "print(\":\"\". . . .`.  . . . . . . `.  . . . . . .`. . . . . . .`. . . . . .||`.\")\n",
    "print(\"`:. . . . .`.  . . . . . . `.  . . . . . .`. . . . . . .`. . . . .||__>\")\n",
    "print(\"  `:. . . . .`.  . . . . . . `.  . . . . . .`. . . . . . .`.__..-o||\")\n",
    "print(\"    `:. . . . .`.  . . . . . . `.  . . . . . .`. . . . .`;Y\"\"->.\"  \"\")\n",
    "print(\"      `:. . . . .`.  . . . . . . `.  . . . . . .`. . . __.>.:'\")\n",
    "print(\"        `:. . . . .`.  . . . . . . `.  . . . . __..--\"\" ..+\"\"`.\")\n",
    "print(\"   _..-._ `:. . . . .`.  . . . . . . `.__..--\"\" ....:::::.|   `.\")\n",
    "print(\" .\"\"`` \\_--\"\" >:. . . . .`.  . . __..,-|\" \". ..::::::::::::::`--\"\"-:.\")\n",
    "print(\"' ..`\\J.-  \"\"8-`:. . .  __..--\"\" \"\"...-I  \\ `. `::::::::::::::::::::\"\".\")\n",
    "print(\"`/'\\\\88o. ,O \\  `:.--\"\"....:|:::'''`'\\ ='. }-._'::::::::::::::::::|\")\n",
    "print(\"8  8|PP|\"\"(:. \\-\" \"\"\"\"`:::::::|:::.(::='/ .\\\"\"-.:_ ':::::::::::''_.'\"  _..\"\"\")\n",
    "print(\" 8  8|::/ \\`::Y  _____`:::::|::::.\\\\[ .\\ \"\"/\"\"..* *\"\"-.\" ''\"__..--\"\")\\,\"\".-.\\_)\")\n",
    "print(\"`\\b d/\"\"===\\==V::.--..__`:::|:::::.|,'*.\"\".:.. \"\"_-.*`.\"\"    \"\"_.-\"-\"\\? \"\"_=``.\")\n",
    "print(\"\\\\`\"\".`\"' .: :-.::.        `:|:::.'\".'*.' __..--\"\"   `.*`:--\"\".-\"\"?,  .)=\"\"`\\ \\\\\")\n",
    "print(\" `.``...''_/   ``::      _\\\\--.'.'*.'-\"\"   _..-._ _..>.*;-\"\"@_.-/-\" \"`\\.-\"-\".\\\"\")\n",
    "print(\"   `-::--\"            \".-\"\"@\"\"}.'.'*.:)     .\"\"\\` \\ \\`.--'_`-'     `\\. \\-'-\"\"-   `.\")\n",
    "print(\"                     <\\  _...'*.'      .' \\.`\\ `\\ \\\\\"\"         `\\ `' ' .-.\\   |\")\n",
    "print(\"                     _\\\"\" \".---'        -\\. `\\.-\"\"\"-\".\\           \\`|    ._)/   '\")\n",
    "print(\"                   .\"\"\\.`-\"\"\\`.         `\\. \\\"-'-\"\"-   `.           \\\\  `---\"   \"/\")\n",
    "print(\"                 .' \\.`\\ `\\ \\\\        `\\ `' ' .-.\\   |            `.       _/\")\n",
    "print(\"                 -\\. `\\.-\"\"\"-\".\\        \\`|    ._)/   '              `-..--\")\n",
    "print(\"                `\\. \\-'-\"\"-   `.        \\\\  `---\"   \"/\")\n",
    "print(\"                `\\ `' ' .-.\\   |         `.       _/\")\n",
    "print(\"                 \\`|    ._)/   '           `-..--\")\n",
    "print(\"                  \\\\  `---\"   \"/\")\n"
   ]
  }
 ],
 "metadata": {
  "kernelspec": {
   "display_name": "Python 3 (ipykernel)",
   "language": "python",
   "name": "python3"
  },
  "language_info": {
   "codemirror_mode": {
    "name": "ipython",
    "version": 3
   },
   "file_extension": ".py",
   "mimetype": "text/x-python",
   "name": "python",
   "nbconvert_exporter": "python",
   "pygments_lexer": "ipython3",
   "version": "3.9.12"
  }
 },
 "nbformat": 4,
 "nbformat_minor": 5
}
