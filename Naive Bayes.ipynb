{
 "cells": [
  {
   "cell_type": "code",
   "execution_count": 1,
   "id": "d581d89b",
   "metadata": {},
   "outputs": [
    {
     "data": {
      "text/html": [
       "<div>\n",
       "<style scoped>\n",
       "    .dataframe tbody tr th:only-of-type {\n",
       "        vertical-align: middle;\n",
       "    }\n",
       "\n",
       "    .dataframe tbody tr th {\n",
       "        vertical-align: top;\n",
       "    }\n",
       "\n",
       "    .dataframe thead th {\n",
       "        text-align: right;\n",
       "    }\n",
       "</style>\n",
       "<table border=\"1\" class=\"dataframe\">\n",
       "  <thead>\n",
       "    <tr style=\"text-align: right;\">\n",
       "      <th></th>\n",
       "      <th>Label</th>\n",
       "      <th>Message</th>\n",
       "    </tr>\n",
       "  </thead>\n",
       "  <tbody>\n",
       "    <tr>\n",
       "      <th>0</th>\n",
       "      <td>ham</td>\n",
       "      <td>Go until jurong point, crazy.. Available only ...</td>\n",
       "    </tr>\n",
       "    <tr>\n",
       "      <th>1</th>\n",
       "      <td>ham</td>\n",
       "      <td>Ok lar... Joking wif u oni...</td>\n",
       "    </tr>\n",
       "    <tr>\n",
       "      <th>2</th>\n",
       "      <td>spam</td>\n",
       "      <td>Free entry in 2 a wkly comp to win FA Cup fina...</td>\n",
       "    </tr>\n",
       "    <tr>\n",
       "      <th>3</th>\n",
       "      <td>ham</td>\n",
       "      <td>U dun say so early hor... U c already then say...</td>\n",
       "    </tr>\n",
       "    <tr>\n",
       "      <th>4</th>\n",
       "      <td>ham</td>\n",
       "      <td>Nah I don't think he goes to usf, he lives aro...</td>\n",
       "    </tr>\n",
       "  </tbody>\n",
       "</table>\n",
       "</div>"
      ],
      "text/plain": [
       "  Label                                            Message\n",
       "0   ham  Go until jurong point, crazy.. Available only ...\n",
       "1   ham                      Ok lar... Joking wif u oni...\n",
       "2  spam  Free entry in 2 a wkly comp to win FA Cup fina...\n",
       "3   ham  U dun say so early hor... U c already then say...\n",
       "4   ham  Nah I don't think he goes to usf, he lives aro..."
      ]
     },
     "execution_count": 1,
     "metadata": {},
     "output_type": "execute_result"
    }
   ],
   "source": [
    "import pandas as pd\n",
    "spam = pd.read_csv(\"spam.csv\")\n",
    "spam.drop([\"Unnamed: 2\",\"Unnamed: 3\",\"Unnamed: 4\"],axis=1,inplace=True)\n",
    "spam.head()"
   ]
  },
  {
   "cell_type": "code",
   "execution_count": 3,
   "id": "c92ff64f",
   "metadata": {},
   "outputs": [
    {
     "name": "stdout",
     "output_type": "stream",
     "text": [
      "4825\n",
      "747\n"
     ]
    }
   ],
   "source": [
    "print(spam[\"Label\"].value_counts()[\"ham\"])\n",
    "print(spam[\"Label\"].value_counts()[\"spam\"])"
   ]
  },
  {
   "cell_type": "code",
   "execution_count": 66,
   "id": "f2e947df",
   "metadata": {},
   "outputs": [],
   "source": [
    "with open('stopwords (2).txt') as file:\n",
    "    words = [word.rstrip() for word in file]\n",
    "\n",
    "def splits(x):\n",
    "    for i in range(len(spam)):\n",
    "        if spam[\"Label\"][i]==\"spam\":\n",
    "            x.append(spam[\"Message\"][i].split())\n",
    "    return x\n",
    "\n",
    "from collections import Counter\n",
    "def count(topamon):\n",
    "    xs = splits([])\n",
    "    newlist=[]\n",
    "    for i in xs:\n",
    "        for j in i:\n",
    "            newlist.append(j.lower())\n",
    "    top = Counter(newlist)\n",
    "    res = [*set(newlist)]\n",
    "    ret = []\n",
    "    for i in range(topamon):\n",
    "        count = 0\n",
    "        word = \"\"\n",
    "        for j in res:\n",
    "            if top[j]>count and j not in words:\n",
    "                count = top[j]\n",
    "                word = j\n",
    "        top.pop(word)\n",
    "        ret.append(word)\n",
    "        print(count)\n",
    "    return ret"
   ]
  },
  {
   "cell_type": "code",
   "execution_count": 67,
   "id": "9dc34858",
   "metadata": {},
   "outputs": [
    {
     "name": "stdout",
     "output_type": "stream",
     "text": [
      "342\n",
      "180\n",
      "169\n",
      "144\n",
      "136\n",
      "['call', 'free', '2', 'ur', 'txt']\n"
     ]
    }
   ],
   "source": [
    "topWords = count(5)\n",
    "print(topWords)"
   ]
  },
  {
   "cell_type": "code",
   "execution_count": 146,
   "id": "304a49ca",
   "metadata": {},
   "outputs": [],
   "source": [
    "def listing(topWords):\n",
    "    ret = []\n",
    "    for i in spam[\"Message\"]:\n",
    "        isp = i.split()\n",
    "        retapp=[]\n",
    "        for j in topWords:\n",
    "            for x in isp:\n",
    "                if j == x.lower():\n",
    "                    retapp.append(1)\n",
    "                    break\n",
    "                #if j != x.lower():\n",
    "                    #retapp.append(0)\n",
    "                    #break\n",
    "        ret.append(retapp)\n",
    "    return ret\n",
    "vector = listing(topWords)"
   ]
  },
  {
   "cell_type": "code",
   "execution_count": 147,
   "id": "e1ab8614",
   "metadata": {},
   "outputs": [
    {
     "name": "stdout",
     "output_type": "stream",
     "text": [
      "[1, 1]\n",
      "URGENT! You have won a 1 week FREE membership in our �100,000 Prize Jackpot! Txt the word: CLAIM to No: 81010 T&C www.dbuk.net LCCLTD POBOX 4403LDNW1A7RW18\n"
     ]
    }
   ],
   "source": [
    "print(vector[12])\n",
    "print(spam[\"Message\"][12])"
   ]
  },
  {
   "cell_type": "code",
   "execution_count": null,
   "id": "09899ea5",
   "metadata": {},
   "outputs": [],
   "source": []
  }
 ],
 "metadata": {
  "kernelspec": {
   "display_name": "Python 3 (ipykernel)",
   "language": "python",
   "name": "python3"
  },
  "language_info": {
   "codemirror_mode": {
    "name": "ipython",
    "version": 3
   },
   "file_extension": ".py",
   "mimetype": "text/x-python",
   "name": "python",
   "nbconvert_exporter": "python",
   "pygments_lexer": "ipython3",
   "version": "3.9.13"
  }
 },
 "nbformat": 4,
 "nbformat_minor": 5
}
