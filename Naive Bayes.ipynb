{
 "cells": [
  {
   "cell_type": "code",
   "execution_count": 1,
   "id": "d581d89b",
   "metadata": {},
   "outputs": [
    {
     "data": {
      "text/html": [
       "<div>\n",
       "<style scoped>\n",
       "    .dataframe tbody tr th:only-of-type {\n",
       "        vertical-align: middle;\n",
       "    }\n",
       "\n",
       "    .dataframe tbody tr th {\n",
       "        vertical-align: top;\n",
       "    }\n",
       "\n",
       "    .dataframe thead th {\n",
       "        text-align: right;\n",
       "    }\n",
       "</style>\n",
       "<table border=\"1\" class=\"dataframe\">\n",
       "  <thead>\n",
       "    <tr style=\"text-align: right;\">\n",
       "      <th></th>\n",
       "      <th>Label</th>\n",
       "      <th>Message</th>\n",
       "    </tr>\n",
       "  </thead>\n",
       "  <tbody>\n",
       "    <tr>\n",
       "      <th>0</th>\n",
       "      <td>ham</td>\n",
       "      <td>Go until jurong point, crazy.. Available only ...</td>\n",
       "    </tr>\n",
       "    <tr>\n",
       "      <th>1</th>\n",
       "      <td>ham</td>\n",
       "      <td>Ok lar... Joking wif u oni...</td>\n",
       "    </tr>\n",
       "    <tr>\n",
       "      <th>2</th>\n",
       "      <td>spam</td>\n",
       "      <td>Free entry in 2 a wkly comp to win FA Cup fina...</td>\n",
       "    </tr>\n",
       "    <tr>\n",
       "      <th>3</th>\n",
       "      <td>ham</td>\n",
       "      <td>U dun say so early hor... U c already then say...</td>\n",
       "    </tr>\n",
       "    <tr>\n",
       "      <th>4</th>\n",
       "      <td>ham</td>\n",
       "      <td>Nah I don't think he goes to usf, he lives aro...</td>\n",
       "    </tr>\n",
       "  </tbody>\n",
       "</table>\n",
       "</div>"
      ],
      "text/plain": [
       "  Label                                            Message\n",
       "0   ham  Go until jurong point, crazy.. Available only ...\n",
       "1   ham                      Ok lar... Joking wif u oni...\n",
       "2  spam  Free entry in 2 a wkly comp to win FA Cup fina...\n",
       "3   ham  U dun say so early hor... U c already then say...\n",
       "4   ham  Nah I don't think he goes to usf, he lives aro..."
      ]
     },
     "execution_count": 1,
     "metadata": {},
     "output_type": "execute_result"
    }
   ],
   "source": [
    "import pandas as pd\n",
    "spam = pd.read_csv(\"spam.csv\")\n",
    "spam.drop([\"Unnamed: 2\",\"Unnamed: 3\",\"Unnamed: 4\"],axis=1,inplace=True)\n",
    "spam.head()"
   ]
  },
  {
   "cell_type": "code",
   "execution_count": 2,
   "id": "c92ff64f",
   "metadata": {},
   "outputs": [
    {
     "name": "stdout",
     "output_type": "stream",
     "text": [
      "4825\n",
      "747\n"
     ]
    }
   ],
   "source": [
    "print(spam[\"Label\"].value_counts()[\"ham\"])\n",
    "print(spam[\"Label\"].value_counts()[\"spam\"])"
   ]
  },
  {
   "cell_type": "code",
   "execution_count": 3,
   "id": "f2e947df",
   "metadata": {},
   "outputs": [],
   "source": [
    "with open('stopwords (2).txt') as file:\n",
    "    words = [word.rstrip() for word in file]\n",
    "\n",
    "def splits(x):\n",
    "    for i in range(len(spam)):\n",
    "        if spam[\"Label\"][i]==\"spam\":\n",
    "            x.append(spam[\"Message\"][i].split())\n",
    "    return x\n",
    "\n",
    "from collections import Counter\n",
    "def count(topamon):\n",
    "    xs = splits([])\n",
    "    newlist=[]\n",
    "    for i in xs:\n",
    "        for j in i:\n",
    "            newlist.append(j.lower())\n",
    "    top = Counter(newlist)\n",
    "    res = [*set(newlist)]\n",
    "    ret = []\n",
    "    for i in range(topamon):\n",
    "        count = 0\n",
    "        word = \"\"\n",
    "        for j in res:\n",
    "            if top[j]>count and j not in words:\n",
    "                count = top[j]\n",
    "                word = j\n",
    "        top.pop(word)\n",
    "        ret.append(word)\n",
    "        print(count)\n",
    "    return ret"
   ]
  },
  {
   "cell_type": "code",
   "execution_count": 4,
   "id": "e194ec84",
   "metadata": {},
   "outputs": [
    {
     "name": "stdout",
     "output_type": "stream",
     "text": [
      "342\n",
      "180\n",
      "169\n",
      "144\n",
      "136\n",
      "['call', 'free', '2', 'ur', 'txt']\n"
     ]
    }
   ],
   "source": [
    "topWords = count(5)\n",
    "print(topWords)"
   ]
  },
  {
   "cell_type": "code",
   "execution_count": 5,
   "id": "2ffde722",
   "metadata": {},
   "outputs": [],
   "source": [
    "def listing(topWords):\n",
    "    ret = []\n",
    "    for i in spam[\"Message\"]:\n",
    "        isp = i.split()\n",
    "        retapp=[]\n",
    "        for j in topWords:\n",
    "            for x in isp:\n",
    "                if j.lower() == x.lower():\n",
    "                    retapp.append(1)\n",
    "                    break\n",
    "                if j.lower() != x.lower() and x == isp[-1]:\n",
    "                    retapp.append(0)\n",
    "                    break\n",
    "        ret.append(retapp)\n",
    "    return ret\n",
    "spam[\"VecS\"]= listing(topWords)"
   ]
  },
  {
   "cell_type": "code",
   "execution_count": 11,
   "id": "594f5d83",
   "metadata": {},
   "outputs": [
    {
     "data": {
      "text/html": [
       "<div>\n",
       "<style scoped>\n",
       "    .dataframe tbody tr th:only-of-type {\n",
       "        vertical-align: middle;\n",
       "    }\n",
       "\n",
       "    .dataframe tbody tr th {\n",
       "        vertical-align: top;\n",
       "    }\n",
       "\n",
       "    .dataframe thead th {\n",
       "        text-align: right;\n",
       "    }\n",
       "</style>\n",
       "<table border=\"1\" class=\"dataframe\">\n",
       "  <thead>\n",
       "    <tr style=\"text-align: right;\">\n",
       "      <th></th>\n",
       "      <th>Label</th>\n",
       "      <th>Message</th>\n",
       "      <th>VecS</th>\n",
       "    </tr>\n",
       "  </thead>\n",
       "  <tbody>\n",
       "    <tr>\n",
       "      <th>0</th>\n",
       "      <td>ham</td>\n",
       "      <td>Go until jurong point, crazy.. Available only ...</td>\n",
       "      <td>[0, 0, 0, 0, 0]</td>\n",
       "    </tr>\n",
       "    <tr>\n",
       "      <th>1</th>\n",
       "      <td>ham</td>\n",
       "      <td>Ok lar... Joking wif u oni...</td>\n",
       "      <td>[0, 0, 0, 0, 0]</td>\n",
       "    </tr>\n",
       "    <tr>\n",
       "      <th>2</th>\n",
       "      <td>spam</td>\n",
       "      <td>Free entry in 2 a wkly comp to win FA Cup fina...</td>\n",
       "      <td>[0, 1, 1, 0, 1]</td>\n",
       "    </tr>\n",
       "    <tr>\n",
       "      <th>3</th>\n",
       "      <td>ham</td>\n",
       "      <td>U dun say so early hor... U c already then say...</td>\n",
       "      <td>[0, 0, 0, 0, 0]</td>\n",
       "    </tr>\n",
       "    <tr>\n",
       "      <th>4</th>\n",
       "      <td>ham</td>\n",
       "      <td>Nah I don't think he goes to usf, he lives aro...</td>\n",
       "      <td>[0, 0, 0, 0, 0]</td>\n",
       "    </tr>\n",
       "  </tbody>\n",
       "</table>\n",
       "</div>"
      ],
      "text/plain": [
       "  Label                                            Message             VecS\n",
       "0   ham  Go until jurong point, crazy.. Available only ...  [0, 0, 0, 0, 0]\n",
       "1   ham                      Ok lar... Joking wif u oni...  [0, 0, 0, 0, 0]\n",
       "2  spam  Free entry in 2 a wkly comp to win FA Cup fina...  [0, 1, 1, 0, 1]\n",
       "3   ham  U dun say so early hor... U c already then say...  [0, 0, 0, 0, 0]\n",
       "4   ham  Nah I don't think he goes to usf, he lives aro...  [0, 0, 0, 0, 0]"
      ]
     },
     "execution_count": 11,
     "metadata": {},
     "output_type": "execute_result"
    }
   ],
   "source": [
    "spam.head()"
   ]
  },
  {
   "cell_type": "code",
   "execution_count": 12,
   "id": "facf81be",
   "metadata": {},
   "outputs": [],
   "source": [
    "def testTrainSplit(data):\n",
    "    length = len(spam.index)\n",
    "    split = int(length*0.7)\n",
    "    train = data[0:split]\n",
    "    test = data[split+1:length]\n",
    "    return train, test\n",
    "train, test = testTrainSplit(spam)"
   ]
  },
  {
   "cell_type": "code",
   "execution_count": null,
   "id": "5af22754",
   "metadata": {},
   "outputs": [],
   "source": [
    "def getCoeff(train):\n",
    "    sc, hc = getCountsSpam()\n",
    "    for i in range(len(spam[\"VecS\"][0])):\n",
    "        calc(topWords[i], sc, hc)\n",
    "        \n",
    "def calc(word, sc, hc)\n",
    "    ret = []\n",
    "    ind = topWords.index(word)\n",
    "    hamword = 0\n",
    "    spamword = 0\n",
    "    hamnotword = 0\n",
    "    spamnotword = 0\n",
    "    for i in spam[\"VecS\"]:\n",
    "        if i[ind] == 0 and \n",
    "\n",
    "def getCountsSpam():\n",
    "    sc=0\n",
    "    hc=0\n",
    "    for i in train[\"label\"]:\n",
    "        if i == \"spam\":\n",
    "            sc+=1\n",
    "        else:\n",
    "            hc+=1\n",
    "    return sc, hc"
   ]
  }
 ],
 "metadata": {
  "kernelspec": {
   "display_name": "Python 3 (ipykernel)",
   "language": "python",
   "name": "python3"
  },
  "language_info": {
   "codemirror_mode": {
    "name": "ipython",
    "version": 3
   },
   "file_extension": ".py",
   "mimetype": "text/x-python",
   "name": "python",
   "nbconvert_exporter": "python",
   "pygments_lexer": "ipython3",
   "version": "3.9.13"
  }
 },
 "nbformat": 4,
 "nbformat_minor": 5
}
