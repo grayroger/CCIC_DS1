{
 "cells": [
  {
   "cell_type": "code",
   "execution_count": null,
   "id": "284703cd",
   "metadata": {},
   "outputs": [],
   "source": [
    "x = [[1,2,3,3,5],[1,2,4,3,5],[1,2,3,3,5]]\n",
    "print(x[len(x)//2][len(x[0])//2]%2==0)\n",
    "for i in range(len(x[0])):\n",
    "    for j in range(len(x)):\n",
    "        print(x[j][i], end='')"
   ]
  },
  {
   "cell_type": "code",
   "execution_count": null,
   "id": "5ae9ec19",
   "metadata": {},
   "outputs": [],
   "source": [
    "x = {\"one\":1,\"two\":2,\"three\":3}\n",
    "for num in x:\n",
    "    print(num * 2)"
   ]
  },
  {
   "cell_type": "code",
   "execution_count": null,
   "id": "b0f7623c",
   "metadata": {},
   "outputs": [],
   "source": [
    "x = {\"Spindt\":[\"A\",\"B\",\"D\",\"E\",\"S\"], \n",
    "       \"Bowen\":[\"L\",\"M\",\"E\",\"R\",\"T\"]}\n",
    "for i in x:\n",
    "    print(i)\n",
    "    for j in x[i]:\n",
    "        if j == \"A\" or j == \"E\" or j == \"I\" or j == \"O\" or j == \"U\":\n",
    "            print(j)"
   ]
  },
  {
   "cell_type": "code",
   "execution_count": null,
   "id": "b753ee9d",
   "metadata": {},
   "outputs": [],
   "source": [
    "list1= [3,2,5]\n",
    "list2 = [5,3,7,9,2]\n",
    "boo = True\n",
    "for i in list1:\n",
    "    if i not in list2:\n",
    "        boo = False\n",
    "print(boo)"
   ]
  },
  {
   "cell_type": "code",
   "execution_count": 2,
   "id": "7f94a11e",
   "metadata": {},
   "outputs": [
    {
     "name": "stdout",
     "output_type": "stream",
     "text": [
      "number2\n",
      "length5\n",
      "[2, 4, 6, 8, 10]\n"
     ]
    }
   ],
   "source": [
    "num = int(input(\"number\"))\n",
    "leng = int(input(\"length\"))\n",
    "ret = []\n",
    "for i in range(leng):\n",
    "    ret.append(num*(i+1))\n",
    "print(ret)"
   ]
  },
  {
   "cell_type": "code",
   "execution_count": null,
   "id": "12faf5e3",
   "metadata": {},
   "outputs": [],
   "source": [
    "rowsize = 5\n",
    "colsize = 2\n",
    "num = 2\n",
    "ret = [][]\n",
    "for i in range "
   ]
  }
 ],
 "metadata": {
  "kernelspec": {
   "display_name": "Python 3 (ipykernel)",
   "language": "python",
   "name": "python3"
  },
  "language_info": {
   "codemirror_mode": {
    "name": "ipython",
    "version": 3
   },
   "file_extension": ".py",
   "mimetype": "text/x-python",
   "name": "python",
   "nbconvert_exporter": "python",
   "pygments_lexer": "ipython3",
   "version": "3.9.12"
  }
 },
 "nbformat": 4,
 "nbformat_minor": 5
}
