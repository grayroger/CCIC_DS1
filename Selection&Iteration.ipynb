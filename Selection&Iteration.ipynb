{
 "cells": [
  {
   "cell_type": "code",
   "execution_count": null,
   "id": "284703cd",
   "metadata": {},
   "outputs": [],
   "source": [
    "x = [[1,2,3,3,5],[1,2,4,3,5],[1,2,3,3,5]]\n",
    "print(x[len(x)//2][len(x[0])//2]%2==0)\n",
    "for i in range(len(x[0])):\n",
    "    for j in range(len(x)):\n",
    "        print(x[j][i], end='')"
   ]
  },
  {
   "cell_type": "code",
   "execution_count": null,
   "id": "5ae9ec19",
   "metadata": {},
   "outputs": [],
   "source": [
    "x = {\"one\":1,\"two\":2,\"three\":3}\n",
    "for num in x:\n",
    "    print(num * 2)"
   ]
  },
  {
   "cell_type": "code",
   "execution_count": null,
   "id": "b0f7623c",
   "metadata": {},
   "outputs": [],
   "source": [
    "x = {\"Spindt\":[\"A\",\"B\",\"D\",\"E\",\"S\"], \n",
    "       \"Bowen\":[\"L\",\"M\",\"E\",\"R\",\"T\"]}\n",
    "for i in x:\n",
    "    print(i)\n",
    "    for j in x[i]:\n",
    "        if j == \"A\" or j == \"E\" or j == \"I\" or j == \"O\" or j == \"U\":\n",
    "            print(j)"
   ]
  },
  {
   "cell_type": "code",
   "execution_count": null,
   "id": "b753ee9d",
   "metadata": {},
   "outputs": [],
   "source": [
    "list1= [3,2,5]\n",
    "list2 = [5,3,7,9,2]\n",
    "boo = True\n",
    "for i in list1:\n",
    "    if i not in list2:\n",
    "        boo = False\n",
    "print(boo)"
   ]
  },
  {
   "cell_type": "code",
   "execution_count": 5,
   "id": "7f94a11e",
   "metadata": {},
   "outputs": [
    {
     "name": "stdout",
     "output_type": "stream",
     "text": [
      "number5\n",
      "length4\n",
      "[5, 10, 15, 20]\n",
      "hi\n"
     ]
    }
   ],
   "source": [
    "num = int(input(\"number\"))\n",
    "leng = int(input(\"length\"))\n",
    "ret = []\n",
    "for i in range(leng):\n",
    "    ret.append(num*(i+1))\n",
    "print(ret)\n",
    "word = \"HI\"\n",
    "print(word.lower())"
   ]
  },
  {
   "cell_type": "code",
   "execution_count": 10,
   "id": "12faf5e3",
   "metadata": {},
   "outputs": [
    {
     "name": "stdout",
     "output_type": "stream",
     "text": [
      "wordirja\n",
      ".. .-. .--- .- "
     ]
    }
   ],
   "source": [
    "word = input(\"word\").upper()\n",
    "char_to_dots = {\n",
    "  'A': '.-', 'B': '-...', 'C': '-.-.', 'D': '-..', 'E': '.', 'F': '..-.',\n",
    "  'G': '--.', 'H': '....', 'I': '..', 'J': '.---', 'K': '-.-', 'L': '.-..',\n",
    "  'M': '--', 'N': '-.', 'O': '---', 'P': '.--.', 'Q': '--.-', 'R': '.-.',\n",
    "  'S': '...', 'T': '-', 'U': '..-', 'V': '...-', 'W': '.--', 'X': '-..-',\n",
    "  'Y': '-.--', 'Z': '--..', ' ': ' ', '0': '-----',\n",
    "  '1': '.----', '2': '..---', '3': '...--', '4': '....-', '5': '.....',\n",
    "  '6': '-....', '7': '--...', '8': '---..', '9': '----.',\n",
    "  '&': '.-...', \"'\": '.----.', '@': '.--.-.', ')': '-.--.-', '(': '-.--.',\n",
    "  ':': '---...', ',': '--..--', '=': '-...-', '!': '-.-.--', '.': '.-.-.-',\n",
    "  '-': '-....-', '+': '.-.-.', '\"': '.-..-.', '?': '..--..', '/': '-..-.'\n",
    "}\n",
    "\n",
    "for i in word:\n",
    "    for x in char_to_dots:\n",
    "        if i == x:\n",
    "            print(char_to_dots[i] + \" \", end='')"
   ]
  },
  {
   "cell_type": "code",
   "execution_count": 26,
   "id": "0149acdf",
   "metadata": {},
   "outputs": [
    {
     "name": "stdout",
     "output_type": "stream",
     "text": [
      "False\n"
     ]
    }
   ],
   "source": [
    "boo = True\n",
    "rows = [[1,2,1,2,1,1],[2,4,4,3,2,2],[5,5,5,5,4,4],[6,6,7,6,5,0]]\n",
    "for i in range(len(rows[0])): \n",
    "    for x in range(len(rows)):\n",
    "        if x < len(rows)-1 and rows[x][i] >= rows[x+1][i]:\n",
    "                boo = False\n",
    "                break\n",
    "print(boo)"
   ]
  },
  {
   "cell_type": "code",
   "execution_count": null,
   "id": "22816c33",
   "metadata": {},
   "outputs": [],
   "source": []
  }
 ],
 "metadata": {
  "kernelspec": {
   "display_name": "Python 3 (ipykernel)",
   "language": "python",
   "name": "python3"
  },
  "language_info": {
   "codemirror_mode": {
    "name": "ipython",
    "version": 3
   },
   "file_extension": ".py",
   "mimetype": "text/x-python",
   "name": "python",
   "nbconvert_exporter": "python",
   "pygments_lexer": "ipython3",
   "version": "3.9.12"
  }
 },
 "nbformat": 4,
 "nbformat_minor": 5
}
