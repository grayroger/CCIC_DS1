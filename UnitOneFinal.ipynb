{
 "cells": [
  {
   "cell_type": "code",
   "execution_count": null,
   "id": "28bd2721",
   "metadata": {},
   "outputs": [],
   "source": [
    "# PANCAKE SORT\n",
    "#Pancake sort is a reversal based sorting algorithm.\n",
    "#It is based off the fliping of a pankcake on a plate with a spatula.\n",
    "#It uses a flip algoritum\n",
    "# it tries to sort the array in minimum reversals. insted of the least amount of comparisons. \n",
    "import random\n",
    "import time\n",
    "import tracemalloc\n",
    "\n",
    "def flip(arr, i):\n",
    "    temp = 0\n",
    "    start = 0\n",
    "    while start < i:\n",
    "        temp = arr[start]\n",
    "        arr[start] = arr[i]\n",
    "        arr[i] = temp\n",
    "        start += 1\n",
    "        i -= 1\n",
    "\n",
    "def find_max(arr, n): #arr is the array and n is the number of elements in the array\n",
    "    mi = 0\n",
    "    for i in range(n):\n",
    "        if(arr[i]>arr[mi]):\n",
    "            mi = i\n",
    "    return mi\n",
    "\n",
    "def pancake_sort(arr, n):\n",
    "    for i in range(n,1,-1):\n",
    "        mi = find_max(arr,i)\n",
    "        if mi != i-1:\n",
    "            flip(arr,mi)\n",
    "            flip(arr, i-1)\n",
    "            \n",
    "x = 32768\n",
    "randomlist = []\n",
    "for i in range(0,x//2):\n",
    "    randomlist.append(i)\n",
    "for i in range(x//2,x):\n",
    "    randomlist.append(random.randint((x//2),x))\n",
    "n = len(randomlist)\n",
    "tracemalloc.start()\n",
    "x1,y1 = tracemalloc.get_traced_memory()\n",
    "pancake_sort(randomlist,n)\n",
    "x2,y2 = tracemalloc.get_traced_memory()\n",
    "tracemalloc.stop()\n",
    "print(y2 - y1)"
   ]
  },
  {
   "cell_type": "code",
   "execution_count": null,
   "id": "d91eae20",
   "metadata": {},
   "outputs": [],
   "source": []
  }
 ],
 "metadata": {
  "kernelspec": {
   "display_name": "Python 3 (ipykernel)",
   "language": "python",
   "name": "python3"
  },
  "language_info": {
   "codemirror_mode": {
    "name": "ipython",
    "version": 3
   },
   "file_extension": ".py",
   "mimetype": "text/x-python",
   "name": "python",
   "nbconvert_exporter": "python",
   "pygments_lexer": "ipython3",
   "version": "3.9.12"
  }
 },
 "nbformat": 4,
 "nbformat_minor": 5
}
