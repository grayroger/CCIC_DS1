{
 "cells": [
  {
   "cell_type": "code",
   "execution_count": 28,
   "id": "28bd2721",
   "metadata": {},
   "outputs": [
    {
     "name": "stdout",
     "output_type": "stream",
     "text": [
      "[7, 5, 0, 0, 5, 3, 6, 1, 8, 9, 10, 11, 12, 13, 14, 15]\n",
      "15\n"
     ]
    }
   ],
   "source": [
    "# PANCAKE SORT\n",
    "#Pancake sort is a reversal based sorting algorithm.\n",
    "#It is based off the fliping of a pankcake on a plate with a spatula.\n",
    "#It uses a flip algoritum\n",
    "# it tries to sort the array in minimum reversals. insted of the least amount of comparisons. \n",
    "import random\n",
    "import time\n",
    "import tracemalloc\n",
    "\n",
    "def flip(arr, i,count):\n",
    "    temp = 0\n",
    "    start = 0\n",
    "    while start < i:\n",
    "        count += 1\n",
    "        temp = arr[start]\n",
    "        arr[start] = arr[i]\n",
    "        arr[i] = temp\n",
    "        start += 1\n",
    "        i -= 1\n",
    "\n",
    "def find_max(arr, n,count): #arr is the array and n is the number of elements in the array\n",
    "    mi = 0\n",
    "    for i in range(n):\n",
    "        count +=1\n",
    "        if(arr[i]>arr[mi]):\n",
    "            mi = i\n",
    "    return mi\n",
    "\n",
    "def pancake_sort(arr, n,count):\n",
    "    for i in range(n,1,-1):\n",
    "        mi = find_max(arr,i,count)\n",
    "        count +=1\n",
    "        if mi != i-1:\n",
    "            flip(arr,mi,count)\n",
    "            flip(arr, i-1,count)\n",
    "    return count\n",
    "\n",
    "count = 0\n",
    "x = 16\n",
    "randomlist = []\n",
    "for i in range(0, x//2):\n",
    "     randomlist.append(random.randint(0,x//2))\n",
    "for i in range(x//2,x):\n",
    "     randomlist.append(i)\n",
    "print(randomlist)\n",
    "n = len(randomlist)\n",
    "print(pancake_sort(randomlist,n,count))\n",
    "\n"
   ]
  },
  {
   "cell_type": "code",
   "execution_count": null,
   "id": "354bc4f6",
   "metadata": {},
   "outputs": [],
   "source": []
  }
 ],
 "metadata": {
  "kernelspec": {
   "display_name": "Python 3 (ipykernel)",
   "language": "python",
   "name": "python3"
  },
  "language_info": {
   "codemirror_mode": {
    "name": "ipython",
    "version": 3
   },
   "file_extension": ".py",
   "mimetype": "text/x-python",
   "name": "python",
   "nbconvert_exporter": "python",
   "pygments_lexer": "ipython3",
   "version": "3.9.12"
  }
 },
 "nbformat": 4,
 "nbformat_minor": 5
}
