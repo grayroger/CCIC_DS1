{
 "cells": [
  {
   "cell_type": "code",
   "execution_count": 1,
   "id": "ec1a7d16",
   "metadata": {},
   "outputs": [],
   "source": [
    "import requests \n",
    "import pandas as pd\n",
    "import seaborn as sns\n",
    "apiKey = '87983fbe976988a9e22330ebf030a1ae'\n",
    "url = 'https://api.themoviedb.org/3/movie/top_rated?api_key=87983fbe976988a9e22330ebf030a1ae&page={0}'\n",
    "req = requests.get(url)\n",
    "json = req.json()"
   ]
  },
  {
   "cell_type": "code",
   "execution_count": 2,
   "id": "5879bf6b",
   "metadata": {},
   "outputs": [],
   "source": [
    "def requestAllRevs2():\n",
    "    ids2=[]\n",
    "    pageNum = 1\n",
    "    while True:\n",
    "        r = requests.get(f\"https://api.themoviedb.org/3/movie/top_rated?api_key=87983fbe976988a9e22330ebf030a1ae&sort_by=revene.desc&page={pageNum}\")\n",
    "        pageNum += 1\n",
    "        rJson = r.json()\n",
    "        if not r.ok or pageNum >= 10:\n",
    "            return ids2\n",
    "        for i in rJson['results']:\n",
    "            ids2.append(i['id'])\n",
    "ids2 = requestAllRevs2()"
   ]
  },
  {
   "cell_type": "code",
   "execution_count": 3,
   "id": "89861f4d",
   "metadata": {},
   "outputs": [],
   "source": [
    "def getMovieDetails2():\n",
    "    movieDetails = []\n",
    "    for i in ids2:\n",
    "        movieDetail = {}\n",
    "        r = requests.get(f\"https://api.themoviedb.org/3/movie/{i}?api_key=87983fbe976988a9e22330ebf030a1ae&language=en-US\")\n",
    "        rJson = r.json()\n",
    "        movieDetail['title'] = rJson['title']\n",
    "        movieDetails.append(movieDetail)\n",
    "        movieDetail['money'] = rJson['revenue']\n",
    "        movieDetails.append(movieDetail)\n",
    "        #print(movieDetail1)\n",
    "    return movieDetails\n",
    "titles2 = getMovieDetails2()"
   ]
  },
  {
   "cell_type": "code",
   "execution_count": 4,
   "id": "83100b8f",
   "metadata": {},
   "outputs": [],
   "source": [
    "df = pd.DataFrame(titles2)"
   ]
  },
  {
   "cell_type": "code",
   "execution_count": 5,
   "id": "9ffceee7",
   "metadata": {},
   "outputs": [],
   "source": [
    "top = df.sort_values(by='money', ascending=False)"
   ]
  },
  {
   "cell_type": "code",
   "execution_count": 6,
   "id": "05a3c852",
   "metadata": {},
   "outputs": [],
   "source": [
    "top20 = top[:20]"
   ]
  },
  {
   "cell_type": "code",
   "execution_count": 7,
   "id": "ac15bc6a",
   "metadata": {},
   "outputs": [
    {
     "data": {
      "text/html": [
       "<div>\n",
       "<style scoped>\n",
       "    .dataframe tbody tr th:only-of-type {\n",
       "        vertical-align: middle;\n",
       "    }\n",
       "\n",
       "    .dataframe tbody tr th {\n",
       "        vertical-align: top;\n",
       "    }\n",
       "\n",
       "    .dataframe thead th {\n",
       "        text-align: right;\n",
       "    }\n",
       "</style>\n",
       "<table border=\"1\" class=\"dataframe\">\n",
       "  <thead>\n",
       "    <tr style=\"text-align: right;\">\n",
       "      <th></th>\n",
       "      <th>title</th>\n",
       "      <th>money</th>\n",
       "    </tr>\n",
       "  </thead>\n",
       "  <tbody>\n",
       "    <tr>\n",
       "      <th>181</th>\n",
       "      <td>Avengers: Endgame</td>\n",
       "      <td>2797800564</td>\n",
       "    </tr>\n",
       "    <tr>\n",
       "      <th>180</th>\n",
       "      <td>Avengers: Endgame</td>\n",
       "      <td>2797800564</td>\n",
       "    </tr>\n",
       "    <tr>\n",
       "      <th>193</th>\n",
       "      <td>Avengers: Infinity War</td>\n",
       "      <td>2046239637</td>\n",
       "    </tr>\n",
       "    <tr>\n",
       "      <th>192</th>\n",
       "      <td>Avengers: Infinity War</td>\n",
       "      <td>2046239637</td>\n",
       "    </tr>\n",
       "    <tr>\n",
       "      <th>124</th>\n",
       "      <td>Top Gun: Maverick</td>\n",
       "      <td>1482656000</td>\n",
       "    </tr>\n",
       "    <tr>\n",
       "      <th>125</th>\n",
       "      <td>Top Gun: Maverick</td>\n",
       "      <td>1482656000</td>\n",
       "    </tr>\n",
       "    <tr>\n",
       "      <th>38</th>\n",
       "      <td>The Lord of the Rings: The Return of the King</td>\n",
       "      <td>1118888979</td>\n",
       "    </tr>\n",
       "    <tr>\n",
       "      <th>39</th>\n",
       "      <td>The Lord of the Rings: The Return of the King</td>\n",
       "      <td>1118888979</td>\n",
       "    </tr>\n",
       "    <tr>\n",
       "      <th>308</th>\n",
       "      <td>Joker</td>\n",
       "      <td>1074251311</td>\n",
       "    </tr>\n",
       "    <tr>\n",
       "      <th>309</th>\n",
       "      <td>Joker</td>\n",
       "      <td>1074251311</td>\n",
       "    </tr>\n",
       "    <tr>\n",
       "      <th>27</th>\n",
       "      <td>The Dark Knight</td>\n",
       "      <td>1004558444</td>\n",
       "    </tr>\n",
       "    <tr>\n",
       "      <th>26</th>\n",
       "      <td>The Dark Knight</td>\n",
       "      <td>1004558444</td>\n",
       "    </tr>\n",
       "    <tr>\n",
       "      <th>100</th>\n",
       "      <td>The Lord of the Rings: The Two Towers</td>\n",
       "      <td>926287400</td>\n",
       "    </tr>\n",
       "    <tr>\n",
       "      <th>101</th>\n",
       "      <td>The Lord of the Rings: The Two Towers</td>\n",
       "      <td>926287400</td>\n",
       "    </tr>\n",
       "    <tr>\n",
       "      <th>84</th>\n",
       "      <td>The Lord of the Rings: The Fellowship of the Ring</td>\n",
       "      <td>871368364</td>\n",
       "    </tr>\n",
       "    <tr>\n",
       "      <th>85</th>\n",
       "      <td>The Lord of the Rings: The Fellowship of the Ring</td>\n",
       "      <td>871368364</td>\n",
       "    </tr>\n",
       "    <tr>\n",
       "      <th>112</th>\n",
       "      <td>Inception</td>\n",
       "      <td>825532764</td>\n",
       "    </tr>\n",
       "    <tr>\n",
       "      <th>113</th>\n",
       "      <td>Inception</td>\n",
       "      <td>825532764</td>\n",
       "    </tr>\n",
       "    <tr>\n",
       "      <th>244</th>\n",
       "      <td>Coco</td>\n",
       "      <td>800526015</td>\n",
       "    </tr>\n",
       "    <tr>\n",
       "      <th>245</th>\n",
       "      <td>Coco</td>\n",
       "      <td>800526015</td>\n",
       "    </tr>\n",
       "  </tbody>\n",
       "</table>\n",
       "</div>"
      ],
      "text/plain": [
       "                                                 title       money\n",
       "181                                  Avengers: Endgame  2797800564\n",
       "180                                  Avengers: Endgame  2797800564\n",
       "193                             Avengers: Infinity War  2046239637\n",
       "192                             Avengers: Infinity War  2046239637\n",
       "124                                  Top Gun: Maverick  1482656000\n",
       "125                                  Top Gun: Maverick  1482656000\n",
       "38       The Lord of the Rings: The Return of the King  1118888979\n",
       "39       The Lord of the Rings: The Return of the King  1118888979\n",
       "308                                              Joker  1074251311\n",
       "309                                              Joker  1074251311\n",
       "27                                     The Dark Knight  1004558444\n",
       "26                                     The Dark Knight  1004558444\n",
       "100              The Lord of the Rings: The Two Towers   926287400\n",
       "101              The Lord of the Rings: The Two Towers   926287400\n",
       "84   The Lord of the Rings: The Fellowship of the Ring   871368364\n",
       "85   The Lord of the Rings: The Fellowship of the Ring   871368364\n",
       "112                                          Inception   825532764\n",
       "113                                          Inception   825532764\n",
       "244                                               Coco   800526015\n",
       "245                                               Coco   800526015"
      ]
     },
     "execution_count": 7,
     "metadata": {},
     "output_type": "execute_result"
    }
   ],
   "source": [
    "top20"
   ]
  },
  {
   "cell_type": "code",
   "execution_count": 8,
   "id": "599d0857",
   "metadata": {},
   "outputs": [
    {
     "data": {
      "text/plain": [
       "<AxesSubplot:xlabel='money', ylabel='title'>"
      ]
     },
     "execution_count": 8,
     "metadata": {},
     "output_type": "execute_result"
    },
    {
     "data": {
      "image/png": "[encoded data removed]",
      "text/plain": [
       "<Figure size 432x288 with 1 Axes>"
      ]
     },
     "metadata": {
      "needs_background": "light"
     },
     "output_type": "display_data"
    }
   ],
   "source": [
    "sns.barplot(data= top20,x = 'money', y = 'title', )"
   ]
  },
  {
   "cell_type": "code",
   "execution_count": 9,
   "id": "4dd96f03",
   "metadata": {},
   "outputs": [],
   "source": [
    "directors = [\"Joe Russo\", \"Joe Russo\", \"Joe Russo\", \"Joe Russo\",\"Joseph Kosinski\",\"Joseph Kosinski\",\"Peter Jackson\",\"Peter Jackson\",\"Todd Philups\",\"Todd Philups\", \"Christopher Nolan\",\"Christopher Nolan\",\"Peter Jackson\",\"Peter Jackson\",\"Peter Jackson\",\"Peter Jackson\",\"Christopher\",\"Christopher\",\"adrian molina\",\"adrian molina\"]\n",
    "top20.insert(1,\"Directors\",directors)"
   ]
  },
  {
   "cell_type": "code",
   "execution_count": 10,
   "id": "a6cb43a4",
   "metadata": {},
   "outputs": [
    {
     "data": {
      "text/html": [
       "<div>\n",
       "<style scoped>\n",
       "    .dataframe tbody tr th:only-of-type {\n",
       "        vertical-align: middle;\n",
       "    }\n",
       "\n",
       "    .dataframe tbody tr th {\n",
       "        vertical-align: top;\n",
       "    }\n",
       "\n",
       "    .dataframe thead th {\n",
       "        text-align: right;\n",
       "    }\n",
       "</style>\n",
       "<table border=\"1\" class=\"dataframe\">\n",
       "  <thead>\n",
       "    <tr style=\"text-align: right;\">\n",
       "      <th></th>\n",
       "      <th>title</th>\n",
       "      <th>Directors</th>\n",
       "      <th>money</th>\n",
       "    </tr>\n",
       "  </thead>\n",
       "  <tbody>\n",
       "    <tr>\n",
       "      <th>181</th>\n",
       "      <td>Avengers: Endgame</td>\n",
       "      <td>Joe Russo</td>\n",
       "      <td>2797800564</td>\n",
       "    </tr>\n",
       "    <tr>\n",
       "      <th>180</th>\n",
       "      <td>Avengers: Endgame</td>\n",
       "      <td>Joe Russo</td>\n",
       "      <td>2797800564</td>\n",
       "    </tr>\n",
       "    <tr>\n",
       "      <th>193</th>\n",
       "      <td>Avengers: Infinity War</td>\n",
       "      <td>Joe Russo</td>\n",
       "      <td>2046239637</td>\n",
       "    </tr>\n",
       "    <tr>\n",
       "      <th>192</th>\n",
       "      <td>Avengers: Infinity War</td>\n",
       "      <td>Joe Russo</td>\n",
       "      <td>2046239637</td>\n",
       "    </tr>\n",
       "    <tr>\n",
       "      <th>124</th>\n",
       "      <td>Top Gun: Maverick</td>\n",
       "      <td>Joseph Kosinski</td>\n",
       "      <td>1482656000</td>\n",
       "    </tr>\n",
       "    <tr>\n",
       "      <th>125</th>\n",
       "      <td>Top Gun: Maverick</td>\n",
       "      <td>Joseph Kosinski</td>\n",
       "      <td>1482656000</td>\n",
       "    </tr>\n",
       "    <tr>\n",
       "      <th>38</th>\n",
       "      <td>The Lord of the Rings: The Return of the King</td>\n",
       "      <td>Peter Jackson</td>\n",
       "      <td>1118888979</td>\n",
       "    </tr>\n",
       "    <tr>\n",
       "      <th>39</th>\n",
       "      <td>The Lord of the Rings: The Return of the King</td>\n",
       "      <td>Peter Jackson</td>\n",
       "      <td>1118888979</td>\n",
       "    </tr>\n",
       "    <tr>\n",
       "      <th>308</th>\n",
       "      <td>Joker</td>\n",
       "      <td>Todd Philups</td>\n",
       "      <td>1074251311</td>\n",
       "    </tr>\n",
       "    <tr>\n",
       "      <th>309</th>\n",
       "      <td>Joker</td>\n",
       "      <td>Todd Philups</td>\n",
       "      <td>1074251311</td>\n",
       "    </tr>\n",
       "    <tr>\n",
       "      <th>27</th>\n",
       "      <td>The Dark Knight</td>\n",
       "      <td>Christopher Nolan</td>\n",
       "      <td>1004558444</td>\n",
       "    </tr>\n",
       "    <tr>\n",
       "      <th>26</th>\n",
       "      <td>The Dark Knight</td>\n",
       "      <td>Christopher Nolan</td>\n",
       "      <td>1004558444</td>\n",
       "    </tr>\n",
       "    <tr>\n",
       "      <th>100</th>\n",
       "      <td>The Lord of the Rings: The Two Towers</td>\n",
       "      <td>Peter Jackson</td>\n",
       "      <td>926287400</td>\n",
       "    </tr>\n",
       "    <tr>\n",
       "      <th>101</th>\n",
       "      <td>The Lord of the Rings: The Two Towers</td>\n",
       "      <td>Peter Jackson</td>\n",
       "      <td>926287400</td>\n",
       "    </tr>\n",
       "    <tr>\n",
       "      <th>84</th>\n",
       "      <td>The Lord of the Rings: The Fellowship of the Ring</td>\n",
       "      <td>Peter Jackson</td>\n",
       "      <td>871368364</td>\n",
       "    </tr>\n",
       "    <tr>\n",
       "      <th>85</th>\n",
       "      <td>The Lord of the Rings: The Fellowship of the Ring</td>\n",
       "      <td>Peter Jackson</td>\n",
       "      <td>871368364</td>\n",
       "    </tr>\n",
       "    <tr>\n",
       "      <th>112</th>\n",
       "      <td>Inception</td>\n",
       "      <td>Christopher</td>\n",
       "      <td>825532764</td>\n",
       "    </tr>\n",
       "    <tr>\n",
       "      <th>113</th>\n",
       "      <td>Inception</td>\n",
       "      <td>Christopher</td>\n",
       "      <td>825532764</td>\n",
       "    </tr>\n",
       "    <tr>\n",
       "      <th>244</th>\n",
       "      <td>Coco</td>\n",
       "      <td>adrian molina</td>\n",
       "      <td>800526015</td>\n",
       "    </tr>\n",
       "    <tr>\n",
       "      <th>245</th>\n",
       "      <td>Coco</td>\n",
       "      <td>adrian molina</td>\n",
       "      <td>800526015</td>\n",
       "    </tr>\n",
       "  </tbody>\n",
       "</table>\n",
       "</div>"
      ],
      "text/plain": [
       "                                                 title          Directors  \\\n",
       "181                                  Avengers: Endgame          Joe Russo   \n",
       "180                                  Avengers: Endgame          Joe Russo   \n",
       "193                             Avengers: Infinity War          Joe Russo   \n",
       "192                             Avengers: Infinity War          Joe Russo   \n",
       "124                                  Top Gun: Maverick    Joseph Kosinski   \n",
       "125                                  Top Gun: Maverick    Joseph Kosinski   \n",
       "38       The Lord of the Rings: The Return of the King      Peter Jackson   \n",
       "39       The Lord of the Rings: The Return of the King      Peter Jackson   \n",
       "308                                              Joker       Todd Philups   \n",
       "309                                              Joker       Todd Philups   \n",
       "27                                     The Dark Knight  Christopher Nolan   \n",
       "26                                     The Dark Knight  Christopher Nolan   \n",
       "100              The Lord of the Rings: The Two Towers      Peter Jackson   \n",
       "101              The Lord of the Rings: The Two Towers      Peter Jackson   \n",
       "84   The Lord of the Rings: The Fellowship of the Ring      Peter Jackson   \n",
       "85   The Lord of the Rings: The Fellowship of the Ring      Peter Jackson   \n",
       "112                                          Inception        Christopher   \n",
       "113                                          Inception        Christopher   \n",
       "244                                               Coco      adrian molina   \n",
       "245                                               Coco      adrian molina   \n",
       "\n",
       "          money  \n",
       "181  2797800564  \n",
       "180  2797800564  \n",
       "193  2046239637  \n",
       "192  2046239637  \n",
       "124  1482656000  \n",
       "125  1482656000  \n",
       "38   1118888979  \n",
       "39   1118888979  \n",
       "308  1074251311  \n",
       "309  1074251311  \n",
       "27   1004558444  \n",
       "26   1004558444  \n",
       "100   926287400  \n",
       "101   926287400  \n",
       "84    871368364  \n",
       "85    871368364  \n",
       "112   825532764  \n",
       "113   825532764  \n",
       "244   800526015  \n",
       "245   800526015  "
      ]
     },
     "execution_count": 10,
     "metadata": {},
     "output_type": "execute_result"
    }
   ],
   "source": [
    "top20"
   ]
  },
  {
   "cell_type": "code",
   "execution_count": 14,
   "id": "9428b98a",
   "metadata": {},
   "outputs": [],
   "source": [
    "top10 = top20.drop_duplicates()"
   ]
  },
  {
   "cell_type": "code",
   "execution_count": 19,
   "id": "6bc69b75",
   "metadata": {},
   "outputs": [
    {
     "name": "stderr",
     "output_type": "stream",
     "text": [
      "C:\\Users\\grogers3\\AppData\\Local\\Temp\\ipykernel_14228\\4211066710.py:1: SettingWithCopyWarning: \n",
      "A value is trying to be set on a copy of a slice from a DataFrame.\n",
      "Try using .loc[row_indexer,col_indexer] = value instead\n",
      "\n",
      "See the caveats in the documentation: https://pandas.pydata.org/pandas-docs/stable/user_guide/indexing.html#returning-a-view-versus-a-copy\n",
      "  top10['combine'] = top10['title'] + top10['Directors']\n"
     ]
    }
   ],
   "source": [
    "top10['combine'] = top10['title'] + top10['Directors']"
   ]
  },
  {
   "cell_type": "code",
   "execution_count": 20,
   "id": "53591407",
   "metadata": {},
   "outputs": [
    {
     "data": {
      "text/html": [
       "<div>\n",
       "<style scoped>\n",
       "    .dataframe tbody tr th:only-of-type {\n",
       "        vertical-align: middle;\n",
       "    }\n",
       "\n",
       "    .dataframe tbody tr th {\n",
       "        vertical-align: top;\n",
       "    }\n",
       "\n",
       "    .dataframe thead th {\n",
       "        text-align: right;\n",
       "    }\n",
       "</style>\n",
       "<table border=\"1\" class=\"dataframe\">\n",
       "  <thead>\n",
       "    <tr style=\"text-align: right;\">\n",
       "      <th></th>\n",
       "      <th>title</th>\n",
       "      <th>Directors</th>\n",
       "      <th>money</th>\n",
       "      <th>combine</th>\n",
       "    </tr>\n",
       "  </thead>\n",
       "  <tbody>\n",
       "    <tr>\n",
       "      <th>181</th>\n",
       "      <td>Avengers: Endgame</td>\n",
       "      <td>Joe Russo</td>\n",
       "      <td>2797800564</td>\n",
       "      <td>Avengers: EndgameJoe Russo</td>\n",
       "    </tr>\n",
       "    <tr>\n",
       "      <th>193</th>\n",
       "      <td>Avengers: Infinity War</td>\n",
       "      <td>Joe Russo</td>\n",
       "      <td>2046239637</td>\n",
       "      <td>Avengers: Infinity WarJoe Russo</td>\n",
       "    </tr>\n",
       "    <tr>\n",
       "      <th>124</th>\n",
       "      <td>Top Gun: Maverick</td>\n",
       "      <td>Joseph Kosinski</td>\n",
       "      <td>1482656000</td>\n",
       "      <td>Top Gun: MaverickJoseph Kosinski</td>\n",
       "    </tr>\n",
       "    <tr>\n",
       "      <th>38</th>\n",
       "      <td>The Lord of the Rings: The Return of the King</td>\n",
       "      <td>Peter Jackson</td>\n",
       "      <td>1118888979</td>\n",
       "      <td>The Lord of the Rings: The Return of the KingP...</td>\n",
       "    </tr>\n",
       "    <tr>\n",
       "      <th>308</th>\n",
       "      <td>Joker</td>\n",
       "      <td>Todd Philups</td>\n",
       "      <td>1074251311</td>\n",
       "      <td>JokerTodd Philups</td>\n",
       "    </tr>\n",
       "    <tr>\n",
       "      <th>27</th>\n",
       "      <td>The Dark Knight</td>\n",
       "      <td>Christopher Nolan</td>\n",
       "      <td>1004558444</td>\n",
       "      <td>The Dark KnightChristopher Nolan</td>\n",
       "    </tr>\n",
       "    <tr>\n",
       "      <th>100</th>\n",
       "      <td>The Lord of the Rings: The Two Towers</td>\n",
       "      <td>Peter Jackson</td>\n",
       "      <td>926287400</td>\n",
       "      <td>The Lord of the Rings: The Two TowersPeter Jac...</td>\n",
       "    </tr>\n",
       "    <tr>\n",
       "      <th>84</th>\n",
       "      <td>The Lord of the Rings: The Fellowship of the Ring</td>\n",
       "      <td>Peter Jackson</td>\n",
       "      <td>871368364</td>\n",
       "      <td>The Lord of the Rings: The Fellowship of the R...</td>\n",
       "    </tr>\n",
       "    <tr>\n",
       "      <th>112</th>\n",
       "      <td>Inception</td>\n",
       "      <td>Christopher</td>\n",
       "      <td>825532764</td>\n",
       "      <td>InceptionChristopher</td>\n",
       "    </tr>\n",
       "    <tr>\n",
       "      <th>244</th>\n",
       "      <td>Coco</td>\n",
       "      <td>adrian molina</td>\n",
       "      <td>800526015</td>\n",
       "      <td>Cocoadrian molina</td>\n",
       "    </tr>\n",
       "  </tbody>\n",
       "</table>\n",
       "</div>"
      ],
      "text/plain": [
       "                                                 title          Directors  \\\n",
       "181                                  Avengers: Endgame          Joe Russo   \n",
       "193                             Avengers: Infinity War          Joe Russo   \n",
       "124                                  Top Gun: Maverick    Joseph Kosinski   \n",
       "38       The Lord of the Rings: The Return of the King      Peter Jackson   \n",
       "308                                              Joker       Todd Philups   \n",
       "27                                     The Dark Knight  Christopher Nolan   \n",
       "100              The Lord of the Rings: The Two Towers      Peter Jackson   \n",
       "84   The Lord of the Rings: The Fellowship of the Ring      Peter Jackson   \n",
       "112                                          Inception        Christopher   \n",
       "244                                               Coco      adrian molina   \n",
       "\n",
       "          money                                            combine  \n",
       "181  2797800564                         Avengers: EndgameJoe Russo  \n",
       "193  2046239637                    Avengers: Infinity WarJoe Russo  \n",
       "124  1482656000                   Top Gun: MaverickJoseph Kosinski  \n",
       "38   1118888979  The Lord of the Rings: The Return of the KingP...  \n",
       "308  1074251311                                  JokerTodd Philups  \n",
       "27   1004558444                   The Dark KnightChristopher Nolan  \n",
       "100   926287400  The Lord of the Rings: The Two TowersPeter Jac...  \n",
       "84    871368364  The Lord of the Rings: The Fellowship of the R...  \n",
       "112   825532764                               InceptionChristopher  \n",
       "244   800526015                                  Cocoadrian molina  "
      ]
     },
     "execution_count": 20,
     "metadata": {},
     "output_type": "execute_result"
    }
   ],
   "source": [
    "top10"
   ]
  },
  {
   "cell_type": "code",
   "execution_count": 21,
   "id": "389b58a8",
   "metadata": {},
   "outputs": [
    {
     "data": {
      "text/plain": [
       "<AxesSubplot:xlabel='money', ylabel='combine'>"
      ]
     },
     "execution_count": 21,
     "metadata": {},
     "output_type": "execute_result"
    },
    {
     "data": {
      "image/png": "[encoded data removed]",
      "text/plain": [
       "<Figure size 432x288 with 1 Axes>"
      ]
     },
     "metadata": {
      "needs_background": "light"
     },
     "output_type": "display_data"
    }
   ],
   "source": [
    "sns.barplot(data=top10,x='money',y='combine')"
   ]
  },
  {
   "cell_type": "code",
   "execution_count": 51,
   "id": "6e32a53c",
   "metadata": {},
   "outputs": [],
   "source": [
    "def getMovieDetails3():\n",
    "    movieDetails = []\n",
    "    for i in ids2:\n",
    "        movieDetail = {}\n",
    "        r = requests.get(f\"https://api.themoviedb.org/3/movie/{i}?api_key=87983fbe976988a9e22330ebf030a1ae&language=en-US\")\n",
    "        rJson = r.json()\n",
    "        movieDetail['gene'] = rJson['genres'][0]['name']\n",
    "        movieDetails.append(movieDetail)\n",
    "        movieDetail['money'] = rJson['revenue']\n",
    "        movieDetails.append(movieDetail)\n",
    "        #print(movieDetail)\n",
    "    return movieDetails\n",
    "genrea = getMovieDetails3()"
   ]
  },
  {
   "cell_type": "code",
   "execution_count": 52,
   "id": "f5fdfc18",
   "metadata": {},
   "outputs": [],
   "source": [
    "df3 = pd.DataFrame(genrea)"
   ]
  },
  {
   "cell_type": "code",
   "execution_count": 54,
   "id": "2ecab4e1",
   "metadata": {},
   "outputs": [
    {
     "data": {
      "text/plain": [
       "<AxesSubplot:xlabel='money', ylabel='gene'>"
      ]
     },
     "execution_count": 54,
     "metadata": {},
     "output_type": "execute_result"
    },
    {
     "data": {
      "image/png": "[encoded data removed]",
      "text/plain": [
       "<Figure size 432x288 with 1 Axes>"
      ]
     },
     "metadata": {
      "needs_background": "light"
     },
     "output_type": "display_data"
    }
   ],
   "source": [
    "sns.barplot(data=df3, x = 'money',y = 'gene')"
   ]
  },
  {
   "cell_type": "code",
   "execution_count": null,
   "id": "3b5ca87d",
   "metadata": {},
   "outputs": [],
   "source": []
  }
 ],
 "metadata": {
  "kernelspec": {
   "display_name": "Python 3 (ipykernel)",
   "language": "python",
   "name": "python3"
  },
  "language_info": {
   "codemirror_mode": {
    "name": "ipython",
    "version": 3
   },
   "file_extension": ".py",
   "mimetype": "text/x-python",
   "name": "python",
   "nbconvert_exporter": "python",
   "pygments_lexer": "ipython3",
   "version": "3.9.12"
  }
 },
 "nbformat": 4,
 "nbformat_minor": 5
}
