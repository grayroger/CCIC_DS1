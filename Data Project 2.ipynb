{
 "cells": [
  {
   "cell_type": "code",
   "execution_count": 34,
   "id": "ec1a7d16",
   "metadata": {},
   "outputs": [],
   "source": [
    "import requests \n",
    "import pandas as pd\n",
    "import seaborn as sns\n",
    "apiKey = '87983fbe976988a9e22330ebf030a1ae'\n",
    "url = 'https://api.themoviedb.org/3/movie/top_rated?api_key=87983fbe976988a9e22330ebf030a1ae&page={0}'\n",
    "req = requests.get(url)\n",
    "json = req.json()"
   ]
  },
  {
   "cell_type": "code",
   "execution_count": 71,
   "id": "f3818dda",
   "metadata": {},
   "outputs": [],
   "source": [
    "def requestAllRevs():\n",
    "    ids = []\n",
    "    x = 0\n",
    "    pageNum='0'\n",
    "    while True:\n",
    "        url = 'https://api.themoviedb.org/3/movie/top_rated?api_key=87983fbe976988a9e22330ebf030a1ae&page={'+pageNum+'}'\n",
    "        req = requests.get(url)\n",
    "        if not req.ok:\n",
    "            break\n",
    "        ids += req.json()\n",
    "        x+=1\n",
    "        pageNum = str(x)\n",
    "        \n",
    "    return revs"
   ]
  },
  {
   "cell_type": "code",
   "execution_count": null,
   "id": "d00af9dc",
   "metadata": {},
   "outputs": [],
   "source": [
    "ids = requestAllRevs()"
   ]
  },
  {
   "cell_type": "code",
   "execution_count": null,
   "id": "e5482ed4",
   "metadata": {},
   "outputs": [],
   "source": []
  }
 ],
 "metadata": {
  "kernelspec": {
   "display_name": "Python 3 (ipykernel)",
   "language": "python",
   "name": "python3"
  },
  "language_info": {
   "codemirror_mode": {
    "name": "ipython",
    "version": 3
   },
   "file_extension": ".py",
   "mimetype": "text/x-python",
   "name": "python",
   "nbconvert_exporter": "python",
   "pygments_lexer": "ipython3",
   "version": "3.9.12"
  }
 },
 "nbformat": 4,
 "nbformat_minor": 5
}
