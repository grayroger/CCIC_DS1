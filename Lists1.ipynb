{
 "cells": [
  {
   "cell_type": "code",
   "execution_count": 4,
   "id": "cc3d6b8f",
   "metadata": {},
   "outputs": [
    {
     "name": "stdout",
     "output_type": "stream",
     "text": [
      "6\n",
      "6\n"
     ]
    }
   ],
   "source": [
    "x=[[1,2,3],[4,5,6]]\n",
    "print(x[len(x)-1][len(x[0])-1])\n",
    "print(x[-1][-1])"
   ]
  },
  {
   "cell_type": "code",
   "execution_count": 11,
   "id": "ccb3632c",
   "metadata": {},
   "outputs": [
    {
     "name": "stdout",
     "output_type": "stream",
     "text": [
      "[[1, 2, 3], 5, 6]\n",
      "[[4, 5, 6], 5, 6]\n"
     ]
    }
   ],
   "source": [
    "ints=[[1,2,3],[4,5,6]]\n",
    "for x in ints:\n",
    "    print(x)"
   ]
  },
  {
   "cell_type": "code",
   "execution_count": 17,
   "id": "d204c506",
   "metadata": {},
   "outputs": [
    {
     "name": "stdout",
     "output_type": "stream",
     "text": [
      "3\n",
      "4\n"
     ]
    }
   ],
   "source": [
    "ints=[1,2,3,4,5,6]\n",
    "x=-1\n",
    "while True:\n",
    "    x = x + 1\n",
    "    if(ints[x]==4):\n",
    "        break\n",
    "print(x)\n",
    "print(ints[x])"
   ]
  },
  {
   "cell_type": "code",
   "execution_count": 18,
   "id": "59bee525",
   "metadata": {},
   "outputs": [],
   "source": [
    "foods = [\"Bffalo mac\",\"Wngs\",\"Pociuto\"]"
   ]
  },
  {
   "cell_type": "code",
   "execution_count": 19,
   "id": "860cf45b",
   "metadata": {},
   "outputs": [],
   "source": [
    "foods[0]=\"PB and J\""
   ]
  },
  {
   "cell_type": "code",
   "execution_count": null,
   "id": "86b81260",
   "metadata": {},
   "outputs": [],
   "source": [
    "foods[len(foods)-1] = \"celeray\""
   ]
  },
  {
   "cell_type": "code",
   "execution_count": 27,
   "id": "08d4f92b",
   "metadata": {},
   "outputs": [
    {
     "name": "stdout",
     "output_type": "stream",
     "text": [
      "[['Student', 'Height', 'weigth', 'age'], ['ellie', \"4'6'\", 60, 10], ['Sofia', \"4'9'\", 75, 11], ['jesus', \"5'\", 80, 10], ['Jamal', \"4'2'\", 45, 10], ['poppy', \"5'1'\", 80, 11]]\n"
     ]
    }
   ],
   "source": [
    "dataTab = [[\"Student\",\"Height\",\"weigth\",\"age\"],\n",
    "           [\"ellie\",\"4'6'\",60,10],\n",
    "           [\"Sofia\",\"4'9'\",75,11],\n",
    "           [\"jesus\",\"5'\",80,10],\n",
    "           [\"Jamal\",\"4'2'\",45,10],\n",
    "           [\"poppy\",\"5'1'\",80,11]] \n",
    "print(dataTab)"
   ]
  },
  {
   "cell_type": "code",
   "execution_count": 28,
   "id": "b98a8c47",
   "metadata": {},
   "outputs": [
    {
     "name": "stdout",
     "output_type": "stream",
     "text": [
      "['Student', 'Height', 'weigth', 'age']\n",
      "['ellie', \"4'6'\", 60, 10]\n",
      "['Sofia', \"4'9'\", 75, 11]\n",
      "['jesus', \"5'\", 80, 10]\n",
      "['Jamal', \"4'2'\", 45, 10]\n",
      "['poppy', \"5'1'\", 80, 11]\n",
      "4'2'\n"
     ]
    }
   ],
   "source": [
    "for x in dataTab:\n",
    "    print(x)\n",
    "print(dataTab[4][1])"
   ]
  },
  {
   "cell_type": "code",
   "execution_count": null,
   "id": "2d621c6f",
   "metadata": {},
   "outputs": [],
   "source": []
  }
 ],
 "metadata": {
  "kernelspec": {
   "display_name": "Python 3 (ipykernel)",
   "language": "python",
   "name": "python3"
  },
  "language_info": {
   "codemirror_mode": {
    "name": "ipython",
    "version": 3
   },
   "file_extension": ".py",
   "mimetype": "text/x-python",
   "name": "python",
   "nbconvert_exporter": "python",
   "pygments_lexer": "ipython3",
   "version": "3.9.12"
  }
 },
 "nbformat": 4,
 "nbformat_minor": 5
}
