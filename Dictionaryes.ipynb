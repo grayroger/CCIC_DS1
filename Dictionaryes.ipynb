{
 "cells": [
  {
   "cell_type": "code",
   "execution_count": 15,
   "id": "c3867a71",
   "metadata": {},
   "outputs": [
    {
     "name": "stdout",
     "output_type": "stream",
     "text": [
      "5\n",
      "{1: 'y', 2: 'b', 3: 'c'}\n",
      "[1, 2, 3]\n",
      "{1: [[1, 2, 3], [1, 2, 6]], 2: 1}\n"
     ]
    }
   ],
   "source": [
    "x=[[1,2,3],[4,5,6],[7,8,9]]\n",
    "print(x[len(x)//2][len(x[0])//2]) #only for odd deminsions of the matrix\n",
    "\n",
    "x=[[1,2],[3,4]] #has no middel so we don't know \n",
    "\n",
    "alphabet = {1:\"a\",2:\"b\",3:\"c\"}\n",
    "alphabet[1]= \"y\"\n",
    "print(alphabet)\n",
    "stuff = {1:[[1,2,3],[1,2,6]]}\n",
    "print(stuff[1][0])\n",
    "stuff[2] = 1\n",
    "print(stuff)"
   ]
  },
  {
   "cell_type": "code",
   "execution_count": 22,
   "id": "319967ab",
   "metadata": {},
   "outputs": [
    {
     "name": "stdout",
     "output_type": "stream",
     "text": [
      "Wirte the name of the day you need to know aboutsunday\n",
      "['sleep', 'work']\n"
     ]
    }
   ],
   "source": [
    "weekDict = {\"monday\":[\"school\", \"practice\"],\n",
    "            \"tuseday\":[\"school\",\"homework\",\"practice\"],\n",
    "            \"wednesday\":[\"school\",\"homework\",\"practice\"],\n",
    "            \"thursday\":[\"school\",\"homework\",\"practice\"],\n",
    "            \"friday\":[\"school\",\"homework\",\"practice\"],\n",
    "            \"saturday\":[\"sleep\",\"work\"],\n",
    "            \"sunday\":[\"sleep\",\"work\"]}\n",
    "\n",
    "#x = input(\"What Day\")        \n",
    "#print(weekDict[x])\n",
    "print(weekDict[input(\"Wirte the name of the day you need to know about\")])"
   ]
  },
  {
   "cell_type": "code",
   "execution_count": 27,
   "id": "4866e6d3",
   "metadata": {},
   "outputs": [
    {
     "name": "stdout",
     "output_type": "stream",
     "text": [
      "['2001-06-01', 'wednesday', 50, 25, 71]\n"
     ]
    }
   ],
   "source": [
    "statDict = {1:[\"2001-06-01\",\"wednesday\",50,25,71],\n",
    "           2:[\"2001-06-02\",\"thursday\",60,31,53],\n",
    "           3:[\"2001-06-03\",\"friday\",51,24,50],\n",
    "           4:[\"2001-06-04\",\"saturday\",79,21,69],\n",
    "           5:[\"2001-06-05\",\"sunday\",77,39,57],\n",
    "           6:[\"2001-06-06\",\"monday\",93,50,66],\n",
    "           7:[\"2001-06-07\",\"tuseday\",55,32,63]}\n",
    "statDict[8]= [\"2001-08-08\",\"wednesday\",87,89,1]\n",
    "nums = statDict.pop(1)\n",
    "print(nums)"
   ]
  },
  {
   "cell_type": "code",
   "execution_count": null,
   "id": "bb201ba9",
   "metadata": {},
   "outputs": [],
   "source": []
  }
 ],
 "metadata": {
  "kernelspec": {
   "display_name": "Python 3 (ipykernel)",
   "language": "python",
   "name": "python3"
  },
  "language_info": {
   "codemirror_mode": {
    "name": "ipython",
    "version": 3
   },
   "file_extension": ".py",
   "mimetype": "text/x-python",
   "name": "python",
   "nbconvert_exporter": "python",
   "pygments_lexer": "ipython3",
   "version": "3.9.12"
  }
 },
 "nbformat": 4,
 "nbformat_minor": 5
}
