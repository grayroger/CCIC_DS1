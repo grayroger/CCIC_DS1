{
 "cells": [
  {
   "cell_type": "code",
   "execution_count": 3,
   "id": "f5671293",
   "metadata": {},
   "outputs": [
    {
     "name": "stdout",
     "output_type": "stream",
     "text": [
      "c\n"
     ]
    }
   ],
   "source": [
    "def get_missing_letters(letters):\n",
    "    ret = \"\"\n",
    "    alph = [\"a\",\"b\",\"c\"]\n",
    "    for i in alph:\n",
    "        if letters.find(i) == -1:\n",
    "            ret += i\n",
    "    return ret\n",
    "print(get_missing_letters(\"ab\"))"
   ]
  },
  {
   "cell_type": "code",
   "execution_count": 15,
   "id": "6a43c44d",
   "metadata": {},
   "outputs": [
    {
     "name": "stdout",
     "output_type": "stream",
     "text": [
      "[14, 3]\n",
      "[3, 3]\n"
     ]
    }
   ],
   "source": [
    "def uns(valuse):\n",
    "    n = len(valuse)\n",
    "    for i in range(n-1):\n",
    "        for j in range(0,n-i-1):\n",
    "            if valuse[j] > valuse[j+1]:\n",
    "                valuse[j] = valuse[j+1]\n",
    "                valuse[j+1] = valuse[j]\n",
    "x = [14,3]\n",
    "print(x)\n",
    "uns(x)\n",
    "print(x)"
   ]
  },
  {
   "cell_type": "code",
   "execution_count": 26,
   "id": "d5560347",
   "metadata": {},
   "outputs": [
    {
     "name": "stdout",
     "output_type": "stream",
     "text": [
      "[45, 23, 5, 5, 3, 1, 0]\n"
     ]
    }
   ],
   "source": [
    "def sort(stuff):\n",
    "    for i in range(len(stuff)):\n",
    "        for i in range(len(stuff)-1):\n",
    "            if stuff[i]<stuff[i+1]:\n",
    "                temp = stuff[i]\n",
    "                stuff[i]=stuff[i+1]\n",
    "                stuff[i+1]=temp\n",
    "    return stuff\n",
    "print(sort([1,23,5,5,3,0,45]))"
   ]
  },
  {
   "cell_type": "code",
   "execution_count": 7,
   "id": "a64ea7b0",
   "metadata": {
    "scrolled": true
   },
   "outputs": [
    {
     "name": "stdout",
     "output_type": "stream",
     "text": [
      "0.0\n",
      "0.0\n",
      "0.0\n",
      "0.0\n",
      "0.0\n",
      "0.0\n",
      "[0.0, 0.0, 0.0, 0.0, 0.0, 0.0]\n"
     ]
    }
   ],
   "source": [
    "import time\n",
    "import random\n",
    "def sort(stuff):\n",
    "    for i in range(len(stuff)):\n",
    "        for j in range(len(stuff)):\n",
    "            if stuff[i] > stuff[j]:\n",
    "                temp = stuff[i]\n",
    "                stuff[i]=stuff[j]\n",
    "                stuff[j]=temp\n",
    "    return stuff\n",
    "\n",
    "times = []\n",
    "for i in range(random.randint(1,15)):\n",
    "    stuff = [0]\n",
    "    for x in range(random.randint(1,15)):\n",
    "        stuff.append(random.randint(1,50))\n",
    "    start = time.time()\n",
    "    sort(stuff)\n",
    "    end = time.time()\n",
    "    print(end-start)\n",
    "    times.append((end-start))\n",
    "    \n",
    "print(times)"
   ]
  },
  {
   "cell_type": "code",
   "execution_count": null,
   "id": "33d7a5e0",
   "metadata": {},
   "outputs": [],
   "source": []
  },
  {
   "cell_type": "code",
   "execution_count": null,
   "id": "3771ec35",
   "metadata": {},
   "outputs": [],
   "source": []
  }
 ],
 "metadata": {
  "kernelspec": {
   "display_name": "Python 3 (ipykernel)",
   "language": "python",
   "name": "python3"
  },
  "language_info": {
   "codemirror_mode": {
    "name": "ipython",
    "version": 3
   },
   "file_extension": ".py",
   "mimetype": "text/x-python",
   "name": "python",
   "nbconvert_exporter": "python",
   "pygments_lexer": "ipython3",
   "version": "3.9.12"
  }
 },
 "nbformat": 4,
 "nbformat_minor": 5
}
