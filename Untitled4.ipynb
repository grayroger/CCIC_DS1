{
 "cells": [
  {
   "cell_type": "code",
   "execution_count": 1,
   "id": "60f4dc3f",
   "metadata": {},
   "outputs": [],
   "source": [
    "import pandas as pd\n",
    "import seaborn as sns\n",
    "df = pd.read_csv('salaries.csv')"
   ]
  },
  {
   "cell_type": "code",
   "execution_count": 2,
   "id": "7052be47",
   "metadata": {},
   "outputs": [
    {
     "data": {
      "text/html": [
       "<div>\n",
       "<style scoped>\n",
       "    .dataframe tbody tr th:only-of-type {\n",
       "        vertical-align: middle;\n",
       "    }\n",
       "\n",
       "    .dataframe tbody tr th {\n",
       "        vertical-align: top;\n",
       "    }\n",
       "\n",
       "    .dataframe thead th {\n",
       "        text-align: right;\n",
       "    }\n",
       "</style>\n",
       "<table border=\"1\" class=\"dataframe\">\n",
       "  <thead>\n",
       "    <tr style=\"text-align: right;\">\n",
       "      <th></th>\n",
       "      <th>total_experience_years</th>\n",
       "      <th>annual_base_pay</th>\n",
       "    </tr>\n",
       "  </thead>\n",
       "  <tbody>\n",
       "    <tr>\n",
       "      <th>0</th>\n",
       "      <td>13.0</td>\n",
       "      <td>125000.0</td>\n",
       "    </tr>\n",
       "    <tr>\n",
       "      <th>1</th>\n",
       "      <td>15.0</td>\n",
       "      <td>65000.0</td>\n",
       "    </tr>\n",
       "    <tr>\n",
       "      <th>2</th>\n",
       "      <td>4.0</td>\n",
       "      <td>86000.0</td>\n",
       "    </tr>\n",
       "    <tr>\n",
       "      <th>3</th>\n",
       "      <td>4.0</td>\n",
       "      <td>105000.0</td>\n",
       "    </tr>\n",
       "    <tr>\n",
       "      <th>4</th>\n",
       "      <td>4.0</td>\n",
       "      <td>110000.0</td>\n",
       "    </tr>\n",
       "    <tr>\n",
       "      <th>...</th>\n",
       "      <td>...</td>\n",
       "      <td>...</td>\n",
       "    </tr>\n",
       "    <tr>\n",
       "      <th>1599</th>\n",
       "      <td>1.0</td>\n",
       "      <td>60500.0</td>\n",
       "    </tr>\n",
       "    <tr>\n",
       "      <th>1600</th>\n",
       "      <td>6.0</td>\n",
       "      <td>164000.0</td>\n",
       "    </tr>\n",
       "    <tr>\n",
       "      <th>1601</th>\n",
       "      <td>7.0</td>\n",
       "      <td>150000.0</td>\n",
       "    </tr>\n",
       "    <tr>\n",
       "      <th>1602</th>\n",
       "      <td>5.0</td>\n",
       "      <td>75000.0</td>\n",
       "    </tr>\n",
       "    <tr>\n",
       "      <th>1603</th>\n",
       "      <td>2.0</td>\n",
       "      <td>50.0</td>\n",
       "    </tr>\n",
       "  </tbody>\n",
       "</table>\n",
       "<p>1604 rows × 2 columns</p>\n",
       "</div>"
      ],
      "text/plain": [
       "      total_experience_years  annual_base_pay\n",
       "0                       13.0         125000.0\n",
       "1                       15.0          65000.0\n",
       "2                        4.0          86000.0\n",
       "3                        4.0         105000.0\n",
       "4                        4.0         110000.0\n",
       "...                      ...              ...\n",
       "1599                     1.0          60500.0\n",
       "1600                     6.0         164000.0\n",
       "1601                     7.0         150000.0\n",
       "1602                     5.0          75000.0\n",
       "1603                     2.0             50.0\n",
       "\n",
       "[1604 rows x 2 columns]"
      ]
     },
     "execution_count": 2,
     "metadata": {},
     "output_type": "execute_result"
    }
   ],
   "source": [
    "df.dropna(inplace = True)\n",
    "df.reset_index(drop=True,inplace=True)\n",
    "df"
   ]
  },
  {
   "cell_type": "code",
   "execution_count": 3,
   "id": "079f6df0",
   "metadata": {},
   "outputs": [],
   "source": [
    "def testTrainSplit(data):\n",
    "    length = len(df.index)\n",
    "    split = int(length*0.7)\n",
    "    train = data[0:split]\n",
    "    test = data[split+1:length]\n",
    "    return train, test\n",
    "train, test = testTrainSplit(df)"
   ]
  },
  {
   "cell_type": "code",
   "execution_count": 16,
   "id": "c1ab015b",
   "metadata": {},
   "outputs": [],
   "source": [
    "def findSums(a,b,c):\n",
    "    sums=0\n",
    "    for i in range(0,len(train)-1):\n",
    "        sums += abs((abs((a*train[\"total_experience_years\"][i])+(b*train[\"annual_base_pay\"][i])+(c))/((a**2+b**2)**0.5)))\n",
    "    return sums\n",
    "\n",
    "def getBestSlope(c):\n",
    "    compSums=[]\n",
    "    for i in range(1,15000):\n",
    "        compSums.append(findSums(i,-1,c))\n",
    "    ret = compSums[0]\n",
    "    ret1 = 0\n",
    "    for i in range(len(compSums)-1):\n",
    "        if compSums[i+1]<ret:\n",
    "            ret = compSums[i+1]\n",
    "            ret1 = compSums.index(ret)\n",
    "    return ret1-1\n",
    "\n",
    "yint=51000\n",
    "maths=getBestSlope(yint)\n"
   ]
  },
  {
   "cell_type": "code",
   "execution_count": 19,
   "id": "06f61514",
   "metadata": {},
   "outputs": [
    {
     "name": "stdout",
     "output_type": "stream",
     "text": [
      "14997\n"
     ]
    }
   ],
   "source": [
    "\n",
    "print(maths)"
   ]
  },
  {
   "cell_type": "code",
   "execution_count": 20,
   "id": "ecc8efea",
   "metadata": {},
   "outputs": [
    {
     "name": "stdout",
     "output_type": "stream",
     "text": [
      "2.078996956401923e+17\n"
     ]
    }
   ],
   "source": [
    "mse=0\n",
    "for i in range(1,len(test)-1):\n",
    "    mse += ((maths*test[\"total_experience_years\"][i+1124]+yint)-test[\"annual_base_pay\"][i+1122])**2\n",
    "mse = mse/(len(test))\n",
    "print(mse)"
   ]
  },
  {
   "cell_type": "code",
   "execution_count": 21,
   "id": "e67875b4",
   "metadata": {},
   "outputs": [
    {
     "name": "stdout",
     "output_type": "stream",
     "text": [
      "Coefficients: \n",
      " [-4.52337019e-12  1.00000000e+00]\n",
      "Mean squared error: 0.00\n"
     ]
    }
   ],
   "source": [
    "from sklearn import linear_model \n",
    "from sklearn.metrics import mean_squared_error, r2_score\n",
    "regr = linear_model.LinearRegression()\n",
    "regr.fit(train,train[\"annual_base_pay\"])\n",
    "diabetes_y_pred = regr.predict(test)\n",
    "print(\"Coefficients: \\n\", regr.coef_)\n",
    "print(\"Mean squared error: %.2f\" % mean_squared_error(test[\"annual_base_pay\"], diabetes_y_pred))"
   ]
  },
  {
   "cell_type": "code",
   "execution_count": null,
   "id": "aaafddf2",
   "metadata": {},
   "outputs": [],
   "source": []
  }
 ],
 "metadata": {
  "kernelspec": {
   "display_name": "Python 3 (ipykernel)",
   "language": "python",
   "name": "python3"
  },
  "language_info": {
   "codemirror_mode": {
    "name": "ipython",
    "version": 3
   },
   "file_extension": ".py",
   "mimetype": "text/x-python",
   "name": "python",
   "nbconvert_exporter": "python",
   "pygments_lexer": "ipython3",
   "version": "3.9.12"
  }
 },
 "nbformat": 4,
 "nbformat_minor": 5
}
