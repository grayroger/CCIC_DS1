{
 "cells": [
  {
   "cell_type": "code",
   "execution_count": 1,
   "id": "60f4dc3f",
   "metadata": {},
   "outputs": [],
   "source": [
    "import pandas as pd\n",
    "import seaborn as sns\n",
    "df = pd.read_csv('salaries.csv')"
   ]
  },
  {
   "cell_type": "code",
   "execution_count": 2,
   "id": "7052be47",
   "metadata": {},
   "outputs": [],
   "source": [
    "df.dropna(inplace = True)\n",
    "df.reset_index(drop=True,inplace=True)\n"
   ]
  },
  {
   "cell_type": "code",
   "execution_count": 3,
   "id": "079f6df0",
   "metadata": {},
   "outputs": [],
   "source": [
    "def testTrainSplit(data):\n",
    "    length = len(df.index)\n",
    "    split = int(length*0.7)\n",
    "    train = data[0:split]\n",
    "    test = data[split+1:length]\n",
    "    return train, test\n",
    "train, test = testTrainSplit(df)"
   ]
  },
  {
   "cell_type": "code",
   "execution_count": 16,
   "id": "c1ab015b",
   "metadata": {},
   "outputs": [],
   "source": [
    "def findSums(a,b,c):\n",
    "    sums=0\n",
    "    for i in range(0,len(train)-1):\n",
    "        sums += abs((abs((a*train[\"total_experience_years\"][i])+(b*train[\"annual_base_pay\"][i])+(c))/((a**2+b**2)**0.5)))\n",
    "    return sums\n",
    "\n",
    "def getBestSlope(c):\n",
    "    compSums=[]\n",
    "    for i in range(1,15000):\n",
    "        compSums.append(findSums(i,-1,c))\n",
    "    ret = compSums[0]\n",
    "    ret1 = 0\n",
    "    for i in range(len(compSums)-1):\n",
    "        if compSums[i+1]<ret:\n",
    "            ret = compSums[i+1]\n",
    "            ret1 = compSums.index(ret)\n",
    "    return ret1-1\n",
    "\n",
    "yint=51000\n",
    "maths=getBestSlope(yint)\n"
   ]
  },
  {
   "cell_type": "code",
   "execution_count": 19,
   "id": "06f61514",
   "metadata": {},
   "outputs": [
    {
     "name": "stdout",
     "output_type": "stream",
     "text": [
      "14997\n"
     ]
    }
   ],
   "source": [
    "\n",
    "print(maths)"
   ]
  },
  {
   "cell_type": "code",
   "execution_count": 20,
   "id": "ecc8efea",
   "metadata": {},
   "outputs": [
    {
     "name": "stdout",
     "output_type": "stream",
     "text": [
      "2.078996956401923e+17\n"
     ]
    }
   ],
   "source": [
    "mse=0\n",
    "for i in range(1,len(test)-1):\n",
    "    mse += ((maths*test[\"total_experience_years\"][i+1124]+yint)-test[\"annual_base_pay\"][i+1122])**2\n",
    "mse = mse/(len(test))\n",
    "print(mse)"
   ]
  },
  {
   "cell_type": "code",
   "execution_count": 21,
   "id": "e67875b4",
   "metadata": {},
   "outputs": [
    {
     "name": "stdout",
     "output_type": "stream",
     "text": [
      "Coefficients: \n",
      " [-4.52337019e-12  1.00000000e+00]\n",
      "Mean squared error: 0.00\n"
     ]
    }
   ],
   "source": [
    "from sklearn import linear_model \n",
    "from sklearn.metrics import mean_squared_error, r2_score\n",
    "regr = linear_model.LinearRegression()\n",
    "regr.fit(train,train[\"annual_base_pay\"])\n",
    "diabetes_y_pred = regr.predict(test)\n",
    "print(\"Coefficients: \\n\", regr.coef_)\n",
    "print(\"Mean squared error: %.2f\" % mean_squared_error(test[\"annual_base_pay\"], diabetes_y_pred))"
   ]
  },
  {
   "cell_type": "code",
   "execution_count": null,
   "id": "aaafddf2",
   "metadata": {},
   "outputs": [],
   "source": []
  }
 ],
 "metadata": {
  "kernelspec": {
   "display_name": "Python 3 (ipykernel)",
   "language": "python",
   "name": "python3"
  },
  "language_info": {
   "codemirror_mode": {
    "name": "ipython",
    "version": 3
   },
   "file_extension": ".py",
   "mimetype": "text/x-python",
   "name": "python",
   "nbconvert_exporter": "python",
   "pygments_lexer": "ipython3",
   "version": "3.9.12"
  }
 },
 "nbformat": 4,
 "nbformat_minor": 5
}
