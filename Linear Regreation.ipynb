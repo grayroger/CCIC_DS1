{
 "cells": [
  {
   "cell_type": "code",
   "execution_count": 1,
   "id": "25d80c54",
   "metadata": {},
   "outputs": [],
   "source": [
    "import pandas as pd\n",
    "import seaborn as sns\n",
    "df = pd.read_csv('satData.csv')"
   ]
  },
  {
   "cell_type": "code",
   "execution_count": 2,
   "id": "4ea06568",
   "metadata": {},
   "outputs": [],
   "source": [
    "df.drop(columns=\"Unnamed: 0\", axis = 0, inplace=True)"
   ]
  },
  {
   "cell_type": "code",
   "execution_count": 3,
   "id": "6ae45fa0",
   "metadata": {},
   "outputs": [
    {
     "data": {
      "text/plain": [
       "<AxesSubplot:xlabel='GPA', ylabel='SAT'>"
      ]
     },
     "execution_count": 3,
     "metadata": {},
     "output_type": "execute_result"
    },
    {
     "data": {
      "image/png": "[encoded data removed]",
      "text/plain": [
       "<Figure size 432x288 with 1 Axes>"
      ]
     },
     "metadata": {
      "needs_background": "light"
     },
     "output_type": "display_data"
    }
   ],
   "source": [
    "sns.regplot(x = 'GPA', y = 'SAT', data = df)"
   ]
  },
  {
   "cell_type": "code",
   "execution_count": 4,
   "id": "1333f768",
   "metadata": {},
   "outputs": [],
   "source": [
    "#df_1 = df.iloc[:700,:]\n",
    "#df_2 = df.iloc[700:,:] splits datframe with pandas functions"
   ]
  },
  {
   "cell_type": "code",
   "execution_count": 5,
   "id": "bba48bec",
   "metadata": {},
   "outputs": [],
   "source": [
    "#sat = []\n",
    "#for i in range(700):\n",
    "#    sat.append(df[\"SAT\"][i])\n",
    "#gpa = []\n",
    "#for i in range(700):\n",
    "#    gpa.append(df[\"GPA\"][i])\n",
    "#df700=pd.DataFrame(columns=[gpa,sat])\n",
    "\n",
    "#sat2 = []\n",
    "#for i in range(700,1000):\n",
    "#    sat2.append(df[\"SAT\"][i])\n",
    "#gpa2 = []\n",
    "#for i in range(700,1000):\n",
    "#    gpa2.append(df[\"GPA\"][i])\n",
    "#df300=pd.DataFrame(columns=[gpa,sat])    another way of spliting less intuatve"
   ]
  },
  {
   "cell_type": "code",
   "execution_count": 6,
   "id": "8ac19caf",
   "metadata": {},
   "outputs": [],
   "source": [
    "def testTrainSplit(data):\n",
    "    length = len(df.index)\n",
    "    split = int(length*0.7)\n",
    "    train = data[0:split]\n",
    "    test = data[split+1:length]\n",
    "    return train, test  #miss spints fuction for spliting"
   ]
  },
  {
   "cell_type": "code",
   "execution_count": 7,
   "id": "c43694df",
   "metadata": {},
   "outputs": [],
   "source": [
    "train, test = testTrainSplit(df)"
   ]
  },
  {
   "cell_type": "code",
   "execution_count": 8,
   "id": "6c90cf93",
   "metadata": {},
   "outputs": [],
   "source": [
    "#LINER MODLE\n",
    "# b will always be -1\n",
    "\n",
    "# findSums(a,b,c)\n",
    "# returns the sum of the distances of points for a given a,b,c vaule\n",
    "\n",
    "# getBestSlope()\n",
    "# find the best slope useing the findSums(a,b,c) function \n",
    "# DOSE NOT CHANGE THE SLOPE\n",
    "# only the integer value\n",
    "\n",
    "#getBestYint\n",
    "#find the best y vaule for a given a vaule\n",
    "\n",
    "#getBestOverall\n",
    "#retrusn a dictionary of the ax+by+c=0 and the sums of distances\n",
    "# uses all of the fuctions"
   ]
  },
  {
   "cell_type": "code",
   "execution_count": 32,
   "id": "cea23607",
   "metadata": {},
   "outputs": [],
   "source": [
    "def findSums(a,b,c):\n",
    "    sums=0\n",
    "    for i in range(0,len(train)-1):\n",
    "        sums += abs((abs((a*train[\"GPA\"][i])+(b*train[\"SAT\"][i])+(c))/((a**2+b**2)**0.5)))\n",
    "    return sums\n",
    "\n",
    "def getBestSlope(c):\n",
    "    compSums=[]\n",
    "    for i in range(250):\n",
    "        compSums.append(findSums(i,-1,c))\n",
    "    ret = compSums[0]\n",
    "    ret1 = 0\n",
    "    for i in range(len(compSums)-1):\n",
    "        if compSums[i+1]<ret:\n",
    "            ret = compSums[i+1]\n",
    "            ret1 = compSums.index(ret)\n",
    "    return ret1-1\n",
    "\n",
    "def getBestYInt(a):\n",
    "    compSums=[]\n",
    "    for i in range(400,1600):\n",
    "        compSums.append(findSums(a,-1,i))\n",
    "    ret = compSums[0]\n",
    "    ret1 = 0\n",
    "    for i in range(len(compSums)-1):\n",
    "        if compSums[i+1]<ret:\n",
    "            ret = compSums[i+1]\n",
    "            ret1 = compSums.index(ret)\n",
    "    return ret, a, -1, ret1-400\n",
    "\n",
    "def getBestOverall():\n",
    "    dictHold = {}\n",
    "    vaules,a,b,c = getBestYInt(getBestSlope(900))\n",
    "    dictHold[0] = [vaules,a,b,c]\n",
    "    for i in range(1,5):\n",
    "        newC = dictHold[i-1][3]\n",
    "        dictHold[i] = getBestYInt(getBestSlope(newC))\n",
    "        if i == 25:\n",
    "            print(\"halfway\")\n",
    "    return(dictHold)"
   ]
  },
  {
   "cell_type": "code",
   "execution_count": 33,
   "id": "a679e138",
   "metadata": {},
   "outputs": [],
   "source": [
    "dictBests = getBestOverall()"
   ]
  },
  {
   "cell_type": "code",
   "execution_count": 34,
   "id": "24bc6d83",
   "metadata": {},
   "outputs": [
    {
     "name": "stdout",
     "output_type": "stream",
     "text": [
      "{0: [989.6961239093599, 74, -1, -13], 1: (535.9424172392146, 248, -1, -400), 2: (535.9424172392146, 248, -1, -400), 3: (535.9424172392146, 248, -1, -400), 4: (535.9424172392146, 248, -1, -400)}\n"
     ]
    }
   ],
   "source": [
    "bestTest = {\"best\":[100000,0,0,0]}\n",
    "for i in range(len(dictBests)):\n",
    "    if dictBests[i][0] < bestTest[\"best\"][0]:\n",
    "        bestTest[\"best\"]=dictBests[i]\n",
    "print(dictBests)"
   ]
  },
  {
   "cell_type": "code",
   "execution_count": 35,
   "id": "e90e3076",
   "metadata": {},
   "outputs": [
    {
     "name": "stdout",
     "output_type": "stream",
     "text": [
      "(535.9424172392146, 248, -1, -400)\n"
     ]
    }
   ],
   "source": [
    "print(bestTest[\"best\"])"
   ]
  },
  {
   "cell_type": "code",
   "execution_count": 56,
   "id": "9fbf2b8c",
   "metadata": {},
   "outputs": [
    {
     "name": "stdout",
     "output_type": "stream",
     "text": [
      "2914900.9682943164\n"
     ]
    }
   ],
   "source": [
    "mse=0\n",
    "for i in range(1,len(test)):\n",
    "    mse += ((74*test[\"GPA\"][i+700]-900)-test[\"SAT\"][i+700])**2\n",
    "mse = (mse/(len(test)))\n",
    "print(mse)"
   ]
  },
  {
   "cell_type": "code",
   "execution_count": 57,
   "id": "0209d2fd",
   "metadata": {},
   "outputs": [],
   "source": [
    "from sklearn import linear_model\n",
    "from sklearn.metrics import mean_squared_error, r2_score"
   ]
  },
  {
   "cell_type": "code",
   "execution_count": 59,
   "id": "95d96cf4",
   "metadata": {},
   "outputs": [],
   "source": [
    "regr = linear_model.LinearRegression()\n",
    "regr.fit(train,train[\"SAT\"])\n",
    "diabetes_y_pred = regr.predict(test)"
   ]
  },
  {
   "cell_type": "code",
   "execution_count": 60,
   "id": "3a6291c8",
   "metadata": {},
   "outputs": [
    {
     "name": "stdout",
     "output_type": "stream",
     "text": [
      "Coefficients: \n",
      " [4.03108608e-15 1.00000000e+00]\n"
     ]
    }
   ],
   "source": [
    "print(\"Coefficients: \\n\", regr.coef_)"
   ]
  },
  {
   "cell_type": "code",
   "execution_count": 66,
   "id": "2ff6b4f2",
   "metadata": {},
   "outputs": [
    {
     "name": "stdout",
     "output_type": "stream",
     "text": [
      "Mean squared error: 0.00\n"
     ]
    }
   ],
   "source": [
    "print(\"Mean squared error: %.2f\" % mean_squared_error(test[\"SAT\"], diabetes_y_pred))"
   ]
  },
  {
   "cell_type": "code",
   "execution_count": null,
   "id": "32398bc4",
   "metadata": {},
   "outputs": [],
   "source": []
  }
 ],
 "metadata": {
  "kernelspec": {
   "display_name": "Python 3 (ipykernel)",
   "language": "python",
   "name": "python3"
  },
  "language_info": {
   "codemirror_mode": {
    "name": "ipython",
    "version": 3
   },
   "file_extension": ".py",
   "mimetype": "text/x-python",
   "name": "python",
   "nbconvert_exporter": "python",
   "pygments_lexer": "ipython3",
   "version": "3.9.12"
  }
 },
 "nbformat": 4,
 "nbformat_minor": 5
}
