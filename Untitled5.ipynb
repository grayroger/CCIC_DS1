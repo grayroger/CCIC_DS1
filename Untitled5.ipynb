{
 "cells": [
  {
   "cell_type": "code",
   "execution_count": 31,
   "id": "30af44da",
   "metadata": {},
   "outputs": [],
   "source": [
    "import pandas as pd\n",
    "import seaborn as sns\n",
    "\n",
    "df = pd.read_csv(\"manhattan.csv\")\n",
    "df.dropna(inplace = True)\n",
    "df.drop(df.index[df[\"bedrooms\"] % 1 != 0],inplace=True)\n",
    "df.reset_index(drop=True,inplace=True)"
   ]
  },
  {
   "cell_type": "code",
   "execution_count": 32,
   "id": "0696f1ea",
   "metadata": {},
   "outputs": [],
   "source": [
    "adj_rent=[]\n",
    "for i in range(len(df)):\n",
    "    if df.iat[i,2]==0:\n",
    "        adj_rent.append(df.iat[i,1])\n",
    "    else:\n",
    "        adj_rent.append(df.iat[i,1]/df.iat[i,2])   \n",
    "df[\"adjusted rent\"]=adj_rent"
   ]
  },
  {
   "cell_type": "code",
   "execution_count": null,
   "id": "b7129ae9",
   "metadata": {},
   "outputs": [],
   "source": []
  }
 ],
 "metadata": {
  "kernelspec": {
   "display_name": "Python 3 (ipykernel)",
   "language": "python",
   "name": "python3"
  },
  "language_info": {
   "codemirror_mode": {
    "name": "ipython",
    "version": 3
   },
   "file_extension": ".py",
   "mimetype": "text/x-python",
   "name": "python",
   "nbconvert_exporter": "python",
   "pygments_lexer": "ipython3",
   "version": "3.9.12"
  }
 },
 "nbformat": 4,
 "nbformat_minor": 5
}
