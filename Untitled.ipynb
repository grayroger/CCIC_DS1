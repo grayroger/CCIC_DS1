{
 "cells": [
  {
   "cell_type": "code",
   "execution_count": 23,
   "id": "54eac3ca",
   "metadata": {},
   "outputs": [
    {
     "name": "stdout",
     "output_type": "stream",
     "text": [
      "True\n",
      "11223433"
     ]
    }
   ],
   "source": [
    "x = [[1,2,3,3,5],[1,2,4,3,5],[1,2,3,3,5]]\n",
    "print(x[len(x)//2][len(x[0])//2]%2==0)\n",
    "for i in range(len(x[0])):\n",
    "    for j in range(len(x)):\n",
    "        print(x[j][i], end='')"
   ]
  },
  {
   "cell_type": "code",
   "execution_count": 21,
   "id": "aa3540e2",
   "metadata": {},
   "outputs": [
    {
     "name": "stdout",
     "output_type": "stream",
     "text": [
      "oneone\n",
      "twotwo\n",
      "threethree\n"
     ]
    }
   ],
   "source": [
    "x = {\"one\":1,\"two\":2,\"three\":3}\n",
    "for num in x:\n",
    "    print(num * 2)"
   ]
  },
  {
   "cell_type": "code",
   "execution_count": 17,
   "id": "3402c3cf",
   "metadata": {},
   "outputs": [
    {
     "name": "stdout",
     "output_type": "stream",
     "text": [
      "Spindt\n",
      "A\n",
      "E\n",
      "Bowen\n",
      "E\n"
     ]
    }
   ],
   "source": [
    "x = {\"Spindt\":[\"A\",\"B\",\"D\",\"E\",\"S\"], \n",
    "       \"Bowen\":[\"L\",\"M\",\"E\",\"R\",\"T\"]}\n",
    "for i in x:\n",
    "    print(i)\n",
    "    for j in x[i]:\n",
    "        if j == \"A\" or j == \"E\" or j == \"I\" or j == \"O\" or j == \"U\":\n",
    "            print(j)"
   ]
  },
  {
   "cell_type": "code",
   "execution_count": null,
   "id": "89d2f591",
   "metadata": {},
   "outputs": [],
   "source": [
    "x = [[1,2,3],[4,5,6]]\n",
    "y = 0\n",
    "for i in x:\n",
    "    for j in i:\n",
    "        i[y] = i[y]**i[y]\n",
    "    y = y + 1\n",
    "\n",
    "print(x[1][2])"
   ]
  },
  {
   "cell_type": "code",
   "execution_count": null,
   "id": "56c57bd9",
   "metadata": {},
   "outputs": [],
   "source": []
  }
 ],
 "metadata": {
  "kernelspec": {
   "display_name": "Python 3 (ipykernel)",
   "language": "python",
   "name": "python3"
  },
  "language_info": {
   "codemirror_mode": {
    "name": "ipython",
    "version": 3
   },
   "file_extension": ".py",
   "mimetype": "text/x-python",
   "name": "python",
   "nbconvert_exporter": "python",
   "pygments_lexer": "ipython3",
   "version": "3.9.12"
  }
 },
 "nbformat": 4,
 "nbformat_minor": 5
}
