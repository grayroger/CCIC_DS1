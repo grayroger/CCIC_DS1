{
 "cells": [
  {
   "cell_type": "code",
   "execution_count": 17,
   "id": "d7feac13",
   "metadata": {},
   "outputs": [
    {
     "name": "stdout",
     "output_type": "stream",
     "text": [
      "adjective  1\n",
      "adjective  2\n",
      "name  2\n",
      "past tense verb  2\n",
      "name \n",
      "adjective  2\n",
      "adjective  2\n",
      "adjective or numeral, ordinal  2\n",
      "noun plural\n",
      "animal 2\n",
      "animal2\n",
      "name  2\n",
      "adjective  2\n",
      "plural noun  2\n",
      "adjective 2\n",
      "plural noun  2\n",
      "number  \n",
      " name 's2\n",
      "number 2\n",
      " plural noun 2\n",
      " number 2\n",
      "plurla noun  2\n",
      "I, the 1 and 2 2 has 2 's 2 sister and plans to steal her 2 2!\n",
      "What are a 2 and backpacking 2 to do?\n",
      "Before you can help 2, youll have to collect the 2 2 and 2 2 the open up the  wordls connect to a 2 lair.\n",
      "There are 2 2in the game, along with hundreds of other goodies for you to find \n"
     ]
    }
   ],
   "source": [
    "word1 = input(\"adjective  \")\n",
    "word2 = input(\"adjective  \")\n",
    "word3 = input(\"name  \")\n",
    "word4 = input(\"past tense verb  \")\n",
    "word5 = input(\"name \")\n",
    "word6 = input(\"adjective  \")\n",
    "word7 = input(\"adjective  \")\n",
    "word8 = input(\"adjective or numeral, ordinal  \")\n",
    "word9 = input(\"noun plural\")\n",
    "word10 = input(\"animal \")\n",
    "word11 = input(\"animal\")\n",
    "word12 = input(\"name  \")\n",
    "word13 = input(\"adjective  \")\n",
    "word14 = input(\"plural noun  \")\n",
    "word15 = input(\"adjective \")\n",
    "word16 = input(\"plural noun  \")\n",
    "word17 = input(\"number  \")\n",
    "word18 = input(\" name 's\")\n",
    "word19 = input(\"number \")\n",
    "word20 = input(\" plural noun \")\n",
    "word21 = input(\" number \")\n",
    "word22 = input(\"plurla noun  \")\n",
    "print(\"I, the \"+word1+\" and \"+word2+ \" \"+word3 +\" has \"+word4 + \" \"+ word5+\"'s \" +word6+ \" sister and plans to steal her \"+ word7 + \" \"+ word8 +\"!\")\n",
    "print( \"What are a \"+word10+ \" and backpacking \" + word11+ \" to do?\")\n",
    "print(\"Before you can help \" +word12+ \", youll have to collect the \" +word13+ \" \" +word14+ \" and \"+ word15 + \" \"+word16+ \" the open up the \" +word17+ \" wordls connect to a \"+ word18 + \" lair.\")\n",
    "print(\"There are \"+word19+\" \"+word20+\"in the game, along with hundreds of other goodies for you to find \")\n"
   ]
  },
  {
   "cell_type": "markdown",
   "id": "9a3a967b",
   "metadata": {},
   "source": [
    "\n",
    "## "
   ]
  }
 ],
 "metadata": {
  "kernelspec": {
   "display_name": "Python 3 (ipykernel)",
   "language": "python",
   "name": "python3"
  },
  "language_info": {
   "codemirror_mode": {
    "name": "ipython",
    "version": 3
   },
   "file_extension": ".py",
   "mimetype": "text/x-python",
   "name": "python",
   "nbconvert_exporter": "python",
   "pygments_lexer": "ipython3",
   "version": "3.9.12"
  }
 },
 "nbformat": 4,
 "nbformat_minor": 5
}
