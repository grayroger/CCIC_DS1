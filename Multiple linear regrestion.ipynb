{
 "cells": [
  {
   "cell_type": "code",
   "execution_count": 1,
   "id": "30af44da",
   "metadata": {},
   "outputs": [],
   "source": [
    "import pandas as pd\n",
    "import seaborn as sns\n",
    "\n",
    "df = pd.read_csv(\"manhattan.csv\")\n",
    "df.dropna(inplace = True)\n",
    "df.drop(df.index[df[\"bedrooms\"] % 1 != 0],inplace=True)\n",
    "df.reset_index(drop=True,inplace=True)"
   ]
  },
  {
   "cell_type": "code",
   "execution_count": 2,
   "id": "0696f1ea",
   "metadata": {},
   "outputs": [],
   "source": [
    "adj_rent=[]\n",
    "for i in range(len(df)):\n",
    "    if df.iat[i,2]==0:\n",
    "        adj_rent.append(df.iat[i,1])\n",
    "    else:\n",
    "        adj_rent.append(df.iat[i,1]/df.iat[i,2])   \n",
    "df[\"adjusted rent\"]=adj_rent"
   ]
  },
  {
   "cell_type": "code",
   "execution_count": 3,
   "id": "2b6dbcc9",
   "metadata": {},
   "outputs": [],
   "source": [
    "df_min_max_scaled = df.copy()\n",
    "for column in df_min_max_scaled.columns:\n",
    "    df_min_max_scaled[column] = (df_min_max_scaled[column] - df_min_max_scaled[column].min()) / (df_min_max_scaled[column].max() - df_min_max_scaled[column].min())      "
   ]
  },
  {
   "cell_type": "code",
   "execution_count": 4,
   "id": "ce2738b3",
   "metadata": {},
   "outputs": [
    {
     "data": {
      "text/plain": [
       "<AxesSubplot:>"
      ]
     },
     "execution_count": 4,
     "metadata": {},
     "output_type": "execute_result"
    },
    {
     "data": {
      "image/png": "[encoded data removed]",
      "text/plain": [
       "<Figure size 432x288 with 2 Axes>"
      ]
     },
     "metadata": {
      "needs_background": "light"
     },
     "output_type": "display_data"
    }
   ],
   "source": [
    "import matplotlib.pyplot as plt\n",
    "fig,ax=plt.subplots()\n",
    "cor = df_min_max_scaled.corr()\n",
    "sns.heatmap(cor, ax=ax,cmap=\"crest\")"
   ]
  },
  {
   "cell_type": "code",
   "execution_count": 5,
   "id": "d639f3df",
   "metadata": {},
   "outputs": [],
   "source": [
    "def testTrainSplit(data):\n",
    "    length = len(df_min_max_scaled.index)\n",
    "    split = int(length*0.7)\n",
    "    train = data[0:split]\n",
    "    test = data[split+1:length]\n",
    "    return train, test\n",
    "train, test = testTrainSplit(df_min_max_scaled)"
   ]
  },
  {
   "cell_type": "code",
   "execution_count": 16,
   "id": "0ed54b7f",
   "metadata": {},
   "outputs": [
    {
     "name": "stdout",
     "output_type": "stream",
     "text": [
      "1.0\n"
     ]
    },
    {
     "ename": "NameError",
     "evalue": "name 'placeHold' is not defined",
     "output_type": "error",
     "traceback": [
      "\u001b[1;31m---------------------------------------------------------------------------\u001b[0m",
      "\u001b[1;31mNameError\u001b[0m                                 Traceback (most recent call last)",
      "Input \u001b[1;32mIn [16]\u001b[0m, in \u001b[0;36m<cell line: 47>\u001b[1;34m()\u001b[0m\n\u001b[0;32m     44\u001b[0m     \u001b[38;5;28;01mreturn\u001b[39;00m ret1\u001b[38;5;241m-\u001b[39m\u001b[38;5;241m1.0\u001b[39m\n\u001b[0;32m     46\u001b[0m \u001b[38;5;28mprint\u001b[39m(getBestSlopeM1(\u001b[38;5;241m0\u001b[39m))\n\u001b[1;32m---> 47\u001b[0m \u001b[38;5;28mprint\u001b[39m(\u001b[43mgetBestSlopeM2\u001b[49m\u001b[43m(\u001b[49m\u001b[38;5;241;43m0\u001b[39;49m\u001b[43m)\u001b[49m)\n",
      "Input \u001b[1;32mIn [16]\u001b[0m, in \u001b[0;36mgetBestSlopeM2\u001b[1;34m(c)\u001b[0m\n\u001b[0;32m     35\u001b[0m     x \u001b[38;5;241m+\u001b[39m\u001b[38;5;241m=\u001b[39m \u001b[38;5;241m0.01\u001b[39m\n\u001b[0;32m     36\u001b[0m     compSums\u001b[38;5;241m.\u001b[39mappend(findSumsM2(i,\u001b[38;5;241m-\u001b[39m\u001b[38;5;241m1\u001b[39m,c))\n\u001b[1;32m---> 37\u001b[0m     \u001b[43mplaceHold\u001b[49m\u001b[38;5;241m.\u001b[39mappend(x)\n\u001b[0;32m     38\u001b[0m ret \u001b[38;5;241m=\u001b[39m compSums[\u001b[38;5;241m0\u001b[39m]\n\u001b[0;32m     39\u001b[0m ret1 \u001b[38;5;241m=\u001b[39m \u001b[38;5;241m0.0\u001b[39m\n",
      "\u001b[1;31mNameError\u001b[0m: name 'placeHold' is not defined"
     ]
    }
   ],
   "source": [
    "#y = b + m1x1 + m2x2 sqaure feet and bedrooms\n",
    "#y int is 0\n",
    "\n",
    "def findSumsM1(a,b,c):\n",
    "    sums=0\n",
    "    for i in range(0,len(train)-1):\n",
    "        sums += abs((abs((a*train[\"size_sqft\"][i])+(b*train[\"rent\"][i])+(c))/((a**2+b**2)**0.5)))\n",
    "    return sums\n",
    "\n",
    "def getBestSlopeM1(c):\n",
    "    compSums=[]\n",
    "    x=0.0\n",
    "    for i in range(100):\n",
    "        x += 0.01\n",
    "        compSums.append(findSumsM1(i,-1,c))\n",
    "    ret = compSums[0]\n",
    "    ret1 = 0.0\n",
    "    for i in range(len(compSums)-1):\n",
    "        if compSums[i+1]<ret:\n",
    "            ret = compSums[i+1]\n",
    "            ret1 = compSums.index(ret)\n",
    "    return ret1-1.0\n",
    "\n",
    "def findSumsM2(a,b,c):\n",
    "    sums=0\n",
    "    for i in range(0,len(train)-1):\n",
    "        sums += abs((abs((a*train[\"bedrooms\"][i])+(b*train[\"rent\"][i])+(c))/((a**2+b**2)**0.5)))\n",
    "    return sums\n",
    "\n",
    "def getBestSlopeM2(c):\n",
    "    compSums=[]\n",
    "    x=0.0\n",
    "    placehold=[]\n",
    "    for i in range(100):\n",
    "        x += 0.01\n",
    "        compSums.append(findSumsM2(i,-1,c))\n",
    "        placeHold.append(x)\n",
    "    ret = compSums[0]\n",
    "    ret1 = 0.0\n",
    "    for i in range(len(compSums)-1):\n",
    "        if compSums[i+1]<ret:\n",
    "            ret = compSums[i+1]\n",
    "            ret1 = placeHold[i]\n",
    "    return ret1-1.0\n",
    "\n",
    "print(getBestSlopeM1(0))\n",
    "print(getBestSlopeM2(0))"
   ]
  },
  {
   "cell_type": "code",
   "execution_count": null,
   "id": "ee19bef4",
   "metadata": {},
   "outputs": [],
   "source": []
  }
 ],
 "metadata": {
  "kernelspec": {
   "display_name": "Python 3 (ipykernel)",
   "language": "python",
   "name": "python3"
  },
  "language_info": {
   "codemirror_mode": {
    "name": "ipython",
    "version": 3
   },
   "file_extension": ".py",
   "mimetype": "text/x-python",
   "name": "python",
   "nbconvert_exporter": "python",
   "pygments_lexer": "ipython3",
   "version": "3.9.12"
  }
 },
 "nbformat": 4,
 "nbformat_minor": 5
}
