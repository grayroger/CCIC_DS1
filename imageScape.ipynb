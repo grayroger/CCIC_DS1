{
 "cells": [
  {
   "cell_type": "code",
   "execution_count": 2,
   "id": "9b7fca4b",
   "metadata": {},
   "outputs": [
    {
     "ename": "ModuleNotFoundError",
     "evalue": "No module named 'selenium'",
     "output_type": "error",
     "traceback": [
      "\u001b[1;31m---------------------------------------------------------------------------\u001b[0m",
      "\u001b[1;31mModuleNotFoundError\u001b[0m                       Traceback (most recent call last)",
      "Input \u001b[1;32mIn [2]\u001b[0m, in \u001b[0;36m<cell line: 1>\u001b[1;34m()\u001b[0m\n\u001b[1;32m----> 1\u001b[0m \u001b[38;5;28;01mfrom\u001b[39;00m \u001b[38;5;21;01mselenium\u001b[39;00m \u001b[38;5;28;01mimport\u001b[39;00m webdriver\n\u001b[0;32m      2\u001b[0m \u001b[38;5;28;01mimport\u001b[39;00m \u001b[38;5;21;01murllib\u001b[39;00m\u001b[38;5;21;01m.\u001b[39;00m\u001b[38;5;21;01mrequest\u001b[39;00m\n\u001b[0;32m      3\u001b[0m \u001b[38;5;28;01mimport\u001b[39;00m \u001b[38;5;21;01mtime\u001b[39;00m\n",
      "\u001b[1;31mModuleNotFoundError\u001b[0m: No module named 'selenium'"
     ]
    }
   ],
   "source": [
    "from selenium import webdriver\n",
    "import urllib.request\n",
    "import time\n",
    "import os\n",
    "\n",
    "\n",
    "def download_image(person_name, src, seq, dir):\n",
    "    try:\n",
    "        filename = person_name + str(seq) + '.png'  # i.e: \"JohnTravolta0.png\"\n",
    "        image_path = os.path.abspath(os.path.join(os.getcwd(), dir, filename))  # /home/user/Desktop/dirname\n",
    "        urllib.request.urlretrieve(src, image_path)  # download image\n",
    "\n",
    "    except Exception:\n",
    "        pass\n",
    "\n",
    "\n",
    "def browse_page(person_name, pages, dir):\n",
    "    seq = 0  # initialize the file number.\n",
    "    for i in range(pages):  # Loop for the number of pages you want to scrape.\n",
    "        try:\n",
    "            driver.execute_script('window.scrollTo(0, document.body.scrollHeight);')  # Scroll to the end of page.\n",
    "            time.sleep(2)  # Wait for all the images to load correctly.\n",
    "            images = driver.find_elements(\"xpath\",\n",
    "                                          \"//img[contains(@class, 'MosaicAsset-module__thumb___yvFP5')]\")  # Find all images.\n",
    "        except:\n",
    "            continue\n",
    "\n",
    "        for image in images:  # For each image in one page:\n",
    "            try:\n",
    "                src = image.get_attribute('src')  # Get the link\n",
    "                download_image(person_name, src, seq, dir)  # And download it to directory\n",
    "            except:\n",
    "                pass\n",
    "            seq += 1\n",
    "        try:\n",
    "            nextpage = driver.find_element_by_css_selector(\n",
    "                '.search-pagination__button-icon--next').click()  # Move to next page\n",
    "        except:\n",
    "            pass\n",
    "        time.sleep(2)\n",
    "\n",
    "\n",
    "if __name__ == '__main__':\n",
    "    person_name = input(\"Please Provide The Person's Name: \\n\")\n",
    "    url = input('Please Provide The Page URL: \\n')\n",
    "    dir = input('Please Provide The Directory Where The Data Will be Saved: \\n')\n",
    "    pages = int(input('Please Provide How Many Pages You Want To Be Scrapped: \\n'))\n",
    "    #driver = webdriver.Firefox()\n",
    "    driver_path = \"C:/Users/grogers3/Downloads/chromedriver_win32/chromedriver.exe\"\n",
    "    driver = webdriver.Chrome(driver_path) # IF YOU ARE USING CHROME.\t\n",
    "    driver.maximize_window()\n",
    "    driver.get(url)\n",
    "    if not os.path.isdir(dir):  # If the folder does not exist in working directory, create a new one.\n",
    "        os.makedirs(dir)\n",
    "    browse_page(person_name, pages, dir)"
   ]
  },
  {
   "cell_type": "code",
   "execution_count": null,
   "id": "6202240a",
   "metadata": {},
   "outputs": [],
   "source": []
  }
 ],
 "metadata": {
  "kernelspec": {
   "display_name": "Python 3 (ipykernel)",
   "language": "python",
   "name": "python3"
  },
  "language_info": {
   "codemirror_mode": {
    "name": "ipython",
    "version": 3
   },
   "file_extension": ".py",
   "mimetype": "text/x-python",
   "name": "python",
   "nbconvert_exporter": "python",
   "pygments_lexer": "ipython3",
   "version": "3.9.12"
  }
 },
 "nbformat": 4,
 "nbformat_minor": 5
}
