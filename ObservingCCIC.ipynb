{
 "cells": [
  {
   "cell_type": "code",
   "execution_count": 49,
   "id": "ccadbf17",
   "metadata": {},
   "outputs": [
    {
     "name": "stdout",
     "output_type": "stream",
     "text": [
      "5.7\n",
      "2.8\n"
     ]
    }
   ],
   "source": [
    "vendingMachineData = [[\"Time\" ,\"Total Persons Downstaris\",\"Total Persons Upstairs\"],\n",
    "                      [\"9:45\" ,3                         ,0                       ],\n",
    "                      [\"10:00\",21                        ,11                      ],\n",
    "                      [\"10:15\",10                        ,4                       ],\n",
    "                      [\"10:30\",1                         ,0                       ],\n",
    "                      [\"10:45\",0                         ,6                       ],\n",
    "                      [\"11:00\",11                        ,2                       ],\n",
    "                      [\"11:15\",7                         ,3                       ],\n",
    "                      [\"11:30\",3                         ,2                       ],\n",
    "                      [\"11:45\",1                         ,0                       ],\n",
    "                      [\"12:00\",0                         ,0                       ]]\n",
    "\n",
    "x = 1\n",
    "temp = 0\n",
    "count = 0\n",
    "for y in range(10): \n",
    "    count = count + vendingMachineData[x][1]\n",
    "    x = x + 1\n",
    "    temp = temp + 1\n",
    "print(count/temp)\n",
    "\n",
    "xTwo = 1\n",
    "tempTwo = 0\n",
    "countTwo = 0\n",
    "for y in range(10): \n",
    "    countTwo = countTwo + vendingMachineData[xTwo][2]\n",
    "    xTwo = xTwo + 1\n",
    "    tempTwo = tempTwo + 1\n",
    "print(countTwo/tempTwo)"
   ]
  },
  {
   "cell_type": "code",
   "execution_count": 26,
   "id": "0e8f3c51",
   "metadata": {},
   "outputs": [
    {
     "data": {
      "image/png": "[encoded data removed]",
      "text/plain": [
       "<Figure size 432x288 with 1 Axes>"
      ]
     },
     "metadata": {
      "needs_background": "light"
     },
     "output_type": "display_data"
    }
   ],
   "source": [
    "import matplotlib.pyplot as plt\n",
    "fig = plt.figure()\n",
    "ax = fig.add_axes([0,0,1,1])\n",
    "times = [\"9:45\",\"10:00\",\"10:15\",\"10:30\",\"10:45\",\"11:00\",\"11:15\",\"11:30\",\"11:45\",\"12:00\"]\n",
    "tot = [3,21,10,1,0,11,7,3,1,0]\n",
    "ax.bar(times,tot)\n",
    "plt.show()"
   ]
  },
  {
   "cell_type": "code",
   "execution_count": 38,
   "id": "8732c763",
   "metadata": {},
   "outputs": [
    {
     "data": {
      "image/png": "[encoded data removed]",
      "text/plain": [
       "<Figure size 432x288 with 1 Axes>"
      ]
     },
     "metadata": {
      "needs_background": "light"
     },
     "output_type": "display_data"
    }
   ],
   "source": [
    "import matplotlib.pyplot as plt\n",
    "fig = plt.figure()\n",
    "ax = fig.add_axes([0,0,1,1])\n",
    "times = [\"9:45\",\"10:00\",\"10:15\",\"10:30\",\"10:45\",\"11:00\",\"11:15\",\"11:30\",\"11:45\",\"12:00\"]\n",
    "tot = [0,11,4,0,6,2,3,2,0,0]\n",
    "ax.bar(times,tot)\n",
    "plt.show()"
   ]
  },
  {
   "cell_type": "code",
   "execution_count": 44,
   "id": "0611818c",
   "metadata": {},
   "outputs": [
    {
     "data": {
      "text/plain": [
       "<BarContainer object of 10 artists>"
      ]
     },
     "execution_count": 44,
     "metadata": {},
     "output_type": "execute_result"
    },
    {
     "data": {
      "image/png": "[encoded data removed]",
      "text/plain": [
       "<Figure size 432x288 with 1 Axes>"
      ]
     },
     "metadata": {
      "needs_background": "light"
     },
     "output_type": "display_data"
    }
   ],
   "source": [
    "import numpy as np\n",
    "import matplotlib.pyplot as plt\n",
    "data = [[3,21,10,1,0,11,7,3,1,0],[0,11,4,0,6,2,3,2,0,0]]\n",
    "X = np.arange(10)\n",
    "fig = plt.figure()\n",
    "ax = fig.add_axes([0,0,2,1])\n",
    "ax.bar(X + 0.00, data[0], color = 'b', width = 0.25)\n",
    "ax.bar(X + 0.25, data[1], color = 'g', width = 0.25)\n"
   ]
  },
  {
   "cell_type": "code",
   "execution_count": 51,
   "id": "48d3754c",
   "metadata": {},
   "outputs": [
    {
     "name": "stdout",
     "output_type": "stream",
     "text": [
      "2\n",
      "2\n"
     ]
    }
   ],
   "source": [
    "x = [[1,2,3],[1,2,3]]\n",
    "for i in range(2):\n",
    "    print(x[i][1])"
   ]
  }
 ],
 "metadata": {
  "kernelspec": {
   "display_name": "Python 3 (ipykernel)",
   "language": "python",
   "name": "python3"
  },
  "language_info": {
   "codemirror_mode": {
    "name": "ipython",
    "version": 3
   },
   "file_extension": ".py",
   "mimetype": "text/x-python",
   "name": "python",
   "nbconvert_exporter": "python",
   "pygments_lexer": "ipython3",
   "version": "3.9.12"
  }
 },
 "nbformat": 4,
 "nbformat_minor": 5
}
